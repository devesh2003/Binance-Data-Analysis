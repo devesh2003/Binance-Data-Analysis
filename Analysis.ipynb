{
 "cells": [
  {
   "cell_type": "code",
   "execution_count": 31,
   "id": "1d9c0069",
   "metadata": {},
   "outputs": [],
   "source": [
    "import pandas as pd\n",
    "import numpy as np\n",
    "import matplotlib.pyplot as plt\n",
    "from sklearn import cluster\n",
    "import requests\n",
    "from BinanceCollector import BinanceCollector\n",
    "import warnings\n",
    "import talib\n",
    "warnings.filterwarnings(\"ignore\")"
   ]
  },
  {
   "cell_type": "code",
   "execution_count": 52,
   "id": "e28e7ce9",
   "metadata": {},
   "outputs": [],
   "source": [
    "collector = BinanceCollector(\"APEUSDT\",\"2022-06-01\",\"2022-12-19\",\"15m\")\n",
    "collector.start_collect()\n",
    "collector.df.columns = [\"Open Time\",\"Open\",\"High\",\"Low\",\"Close\",\"Volume\",\"Close Time\",\n",
    "             \"Quote asset volumne\",\"Total Trades\",\"Buyer Base Volume\",\n",
    "             \"Taker buy quote asset volume\",\"Ignore\"]\n",
    "df = collector.df"
   ]
  },
  {
   "cell_type": "code",
   "execution_count": 80,
   "id": "4de7a54a",
   "metadata": {},
   "outputs": [],
   "source": [
    "df = df[[\"Open\",\"High\",\"Low\",\"Close\",\"Volume\",\"Total Trades\",\"Buyer Base Volume\",\"Taker buy quote asset volume\"]]\n",
    "df[\"Change\"] = (df[\"Close\"] - df[\"Open\"])*100/df[\"Open\"] \n",
    "df[\"Next Change\"] = df[\"Change\"].shift(-1) \n",
    "df[\"Buyer Volume Change\"] = (df[\"Buyer Base Volume\"] - df[\"Buyer Base Volume\"].shift(1))*100 /df[\"Buyer Base Volume\"].shift(1) "
   ]
  },
  {
   "cell_type": "code",
   "execution_count": 81,
   "id": "d0e7421f",
   "metadata": {},
   "outputs": [
    {
     "data": {
      "text/plain": [
       "<AxesSubplot:>"
      ]
     },
     "execution_count": 81,
     "metadata": {},
     "output_type": "execute_result"
    },
    {
     "data": {
      "image/png": "[encoded data removed]",
      "text/plain": [
       "<Figure size 432x288 with 1 Axes>"
      ]
     },
     "metadata": {
      "needs_background": "light"
     },
     "output_type": "display_data"
    }
   ],
   "source": [
    "ema12 = df[\"Close\"].ewm(span=12).mean()\n",
    "ema26 = df[\"Close\"].ewm(span=26).mean()\n",
    "df[\"Close\"].plot()"
   ]
  },
  {
   "cell_type": "code",
   "execution_count": 82,
   "id": "debae3af",
   "metadata": {},
   "outputs": [],
   "source": [
    "df[\"EMA 12\"] = ema12\n",
    "df[\"EMA 26\"] = ema26\n",
    "# df.loc[ (df[\"EMA 12\"] > df[\"EMA 26\"]) & (df[\"EMA 12\"].shift(1) < df[\"EMA 26\"].shift(1)) , \"Buy\"] = True\n",
    "t = df[\"EMA 12\"] > df[\"EMA 26\"]\n",
    "t2 = t.shift(1)\n",
    "df[\"Crossover\"] = np.where( t == t2, False, True )\n",
    "df[\"Difference\"] = df[\"EMA 12\"] - df[\"EMA 26\"]\n",
    "df[\"Difference\"] = df[\"Difference\"] * 100 / df[\"Open\"]"
   ]
  },
  {
   "cell_type": "code",
   "execution_count": 83,
   "id": "7243c4e0",
   "metadata": {},
   "outputs": [
    {
     "data": {
      "text/html": [
       "<div>\n",
       "<style scoped>\n",
       "    .dataframe tbody tr th:only-of-type {\n",
       "        vertical-align: middle;\n",
       "    }\n",
       "\n",
       "    .dataframe tbody tr th {\n",
       "        vertical-align: top;\n",
       "    }\n",
       "\n",
       "    .dataframe thead th {\n",
       "        text-align: right;\n",
       "    }\n",
       "</style>\n",
       "<table border=\"1\" class=\"dataframe\">\n",
       "  <thead>\n",
       "    <tr style=\"text-align: right;\">\n",
       "      <th></th>\n",
       "      <th>Open</th>\n",
       "      <th>High</th>\n",
       "      <th>Low</th>\n",
       "      <th>Close</th>\n",
       "      <th>Volume</th>\n",
       "      <th>Total Trades</th>\n",
       "      <th>Buyer Base Volume</th>\n",
       "      <th>Taker buy quote asset volume</th>\n",
       "      <th>Change</th>\n",
       "      <th>Next Change</th>\n",
       "      <th>Buyer Volume Change</th>\n",
       "      <th>EMA 12</th>\n",
       "      <th>EMA 26</th>\n",
       "      <th>Crossover</th>\n",
       "      <th>Difference</th>\n",
       "    </tr>\n",
       "  </thead>\n",
       "  <tbody>\n",
       "    <tr>\n",
       "      <th>235</th>\n",
       "      <td>246.5</td>\n",
       "      <td>254.6</td>\n",
       "      <td>245.1</td>\n",
       "      <td>247.2</td>\n",
       "      <td>168057.285</td>\n",
       "      <td>65338.0</td>\n",
       "      <td>88214.437</td>\n",
       "      <td>2.196029e+07</td>\n",
       "      <td>0.283976</td>\n",
       "      <td>-0.202184</td>\n",
       "      <td>91.921061</td>\n",
       "      <td>245.416914</td>\n",
       "      <td>255.092961</td>\n",
       "      <td>False</td>\n",
       "      <td>-3.925374</td>\n",
       "    </tr>\n",
       "    <tr>\n",
       "      <th>236</th>\n",
       "      <td>247.3</td>\n",
       "      <td>248.8</td>\n",
       "      <td>243.9</td>\n",
       "      <td>246.8</td>\n",
       "      <td>76626.422</td>\n",
       "      <td>39256.0</td>\n",
       "      <td>39314.640</td>\n",
       "      <td>9.694868e+06</td>\n",
       "      <td>-0.202184</td>\n",
       "      <td>-0.729335</td>\n",
       "      <td>-55.432873</td>\n",
       "      <td>245.629697</td>\n",
       "      <td>254.478668</td>\n",
       "      <td>False</td>\n",
       "      <td>-3.578233</td>\n",
       "    </tr>\n",
       "    <tr>\n",
       "      <th>237</th>\n",
       "      <td>246.8</td>\n",
       "      <td>247.9</td>\n",
       "      <td>244.8</td>\n",
       "      <td>245.0</td>\n",
       "      <td>38043.417</td>\n",
       "      <td>27637.0</td>\n",
       "      <td>19233.045</td>\n",
       "      <td>4.737927e+06</td>\n",
       "      <td>-0.729335</td>\n",
       "      <td>1.877551</td>\n",
       "      <td>-51.079178</td>\n",
       "      <td>245.532820</td>\n",
       "      <td>253.776544</td>\n",
       "      <td>False</td>\n",
       "      <td>-3.340245</td>\n",
       "    </tr>\n",
       "    <tr>\n",
       "      <th>238</th>\n",
       "      <td>245.0</td>\n",
       "      <td>251.5</td>\n",
       "      <td>244.6</td>\n",
       "      <td>249.6</td>\n",
       "      <td>91304.154</td>\n",
       "      <td>41486.0</td>\n",
       "      <td>49513.195</td>\n",
       "      <td>1.231298e+07</td>\n",
       "      <td>1.877551</td>\n",
       "      <td>0.560897</td>\n",
       "      <td>157.438149</td>\n",
       "      <td>246.158540</td>\n",
       "      <td>253.467171</td>\n",
       "      <td>False</td>\n",
       "      <td>-2.983115</td>\n",
       "    </tr>\n",
       "    <tr>\n",
       "      <th>239</th>\n",
       "      <td>249.6</td>\n",
       "      <td>253.9</td>\n",
       "      <td>248.1</td>\n",
       "      <td>251.0</td>\n",
       "      <td>71515.155</td>\n",
       "      <td>37379.0</td>\n",
       "      <td>37402.071</td>\n",
       "      <td>9.386333e+06</td>\n",
       "      <td>0.560897</td>\n",
       "      <td>NaN</td>\n",
       "      <td>-24.460397</td>\n",
       "      <td>246.903380</td>\n",
       "      <td>253.284417</td>\n",
       "      <td>False</td>\n",
       "      <td>-2.556505</td>\n",
       "    </tr>\n",
       "  </tbody>\n",
       "</table>\n",
       "</div>"
      ],
      "text/plain": [
       "      Open   High    Low  Close      Volume  Total Trades  Buyer Base Volume  \\\n",
       "235  246.5  254.6  245.1  247.2  168057.285       65338.0          88214.437   \n",
       "236  247.3  248.8  243.9  246.8   76626.422       39256.0          39314.640   \n",
       "237  246.8  247.9  244.8  245.0   38043.417       27637.0          19233.045   \n",
       "238  245.0  251.5  244.6  249.6   91304.154       41486.0          49513.195   \n",
       "239  249.6  253.9  248.1  251.0   71515.155       37379.0          37402.071   \n",
       "\n",
       "     Taker buy quote asset volume    Change  Next Change  Buyer Volume Change  \\\n",
       "235                  2.196029e+07  0.283976    -0.202184            91.921061   \n",
       "236                  9.694868e+06 -0.202184    -0.729335           -55.432873   \n",
       "237                  4.737927e+06 -0.729335     1.877551           -51.079178   \n",
       "238                  1.231298e+07  1.877551     0.560897           157.438149   \n",
       "239                  9.386333e+06  0.560897          NaN           -24.460397   \n",
       "\n",
       "         EMA 12      EMA 26  Crossover  Difference  \n",
       "235  245.416914  255.092961      False   -3.925374  \n",
       "236  245.629697  254.478668      False   -3.578233  \n",
       "237  245.532820  253.776544      False   -3.340245  \n",
       "238  246.158540  253.467171      False   -2.983115  \n",
       "239  246.903380  253.284417      False   -2.556505  "
      ]
     },
     "execution_count": 83,
     "metadata": {},
     "output_type": "execute_result"
    }
   ],
   "source": [
    "df.tail()"
   ]
  },
  {
   "cell_type": "code",
   "execution_count": null,
   "id": "03f230ce",
   "metadata": {},
   "outputs": [],
   "source": [
    "df.head()"
   ]
  },
  {
   "cell_type": "code",
   "execution_count": 70,
   "id": "4a499963",
   "metadata": {
    "scrolled": true
   },
   "outputs": [
    {
     "data": {
      "text/html": [
       "<div>\n",
       "<style scoped>\n",
       "    .dataframe tbody tr th:only-of-type {\n",
       "        vertical-align: middle;\n",
       "    }\n",
       "\n",
       "    .dataframe tbody tr th {\n",
       "        vertical-align: top;\n",
       "    }\n",
       "\n",
       "    .dataframe thead th {\n",
       "        text-align: right;\n",
       "    }\n",
       "</style>\n",
       "<table border=\"1\" class=\"dataframe\">\n",
       "  <thead>\n",
       "    <tr style=\"text-align: right;\">\n",
       "      <th></th>\n",
       "      <th>Open</th>\n",
       "      <th>High</th>\n",
       "      <th>Low</th>\n",
       "      <th>Close</th>\n",
       "      <th>Volume</th>\n",
       "      <th>Total Trades</th>\n",
       "      <th>Buyer Base Volume</th>\n",
       "      <th>Taker buy quote asset volume</th>\n",
       "      <th>Change</th>\n",
       "      <th>Next Change</th>\n",
       "      <th>Buyer Volume Change</th>\n",
       "      <th>EMA 12</th>\n",
       "      <th>EMA 26</th>\n",
       "      <th>Difference</th>\n",
       "    </tr>\n",
       "  </thead>\n",
       "  <tbody>\n",
       "    <tr>\n",
       "      <th>count</th>\n",
       "      <td>380.000000</td>\n",
       "      <td>380.000000</td>\n",
       "      <td>380.000000</td>\n",
       "      <td>380.000000</td>\n",
       "      <td>380.000000</td>\n",
       "      <td>380.000000</td>\n",
       "      <td>380.000000</td>\n",
       "      <td>3.800000e+02</td>\n",
       "      <td>380.000000</td>\n",
       "      <td>379.000000</td>\n",
       "      <td>379.000000</td>\n",
       "      <td>380.000000</td>\n",
       "      <td>380.000000</td>\n",
       "      <td>380.000000</td>\n",
       "    </tr>\n",
       "    <tr>\n",
       "      <th>mean</th>\n",
       "      <td>249.113684</td>\n",
       "      <td>249.874737</td>\n",
       "      <td>248.325526</td>\n",
       "      <td>249.069737</td>\n",
       "      <td>6605.284061</td>\n",
       "      <td>3083.984211</td>\n",
       "      <td>3238.392932</td>\n",
       "      <td>7.910029e+05</td>\n",
       "      <td>-0.015849</td>\n",
       "      <td>-0.015497</td>\n",
       "      <td>35.998738</td>\n",
       "      <td>249.291038</td>\n",
       "      <td>249.595541</td>\n",
       "      <td>-0.128159</td>\n",
       "    </tr>\n",
       "    <tr>\n",
       "      <th>std</th>\n",
       "      <td>11.681531</td>\n",
       "      <td>11.420633</td>\n",
       "      <td>11.834285</td>\n",
       "      <td>11.646892</td>\n",
       "      <td>8573.625128</td>\n",
       "      <td>3796.541706</td>\n",
       "      <td>3979.558461</td>\n",
       "      <td>9.452215e+05</td>\n",
       "      <td>0.485851</td>\n",
       "      <td>0.486444</td>\n",
       "      <td>180.309824</td>\n",
       "      <td>11.626165</td>\n",
       "      <td>11.575001</td>\n",
       "      <td>0.603785</td>\n",
       "    </tr>\n",
       "    <tr>\n",
       "      <th>min</th>\n",
       "      <td>220.400000</td>\n",
       "      <td>223.100000</td>\n",
       "      <td>220.000000</td>\n",
       "      <td>220.400000</td>\n",
       "      <td>713.984000</td>\n",
       "      <td>655.000000</td>\n",
       "      <td>222.366000</td>\n",
       "      <td>5.815345e+04</td>\n",
       "      <td>-4.270315</td>\n",
       "      <td>-4.270315</td>\n",
       "      <td>-82.767404</td>\n",
       "      <td>228.288232</td>\n",
       "      <td>230.540113</td>\n",
       "      <td>-2.182300</td>\n",
       "    </tr>\n",
       "    <tr>\n",
       "      <th>25%</th>\n",
       "      <td>239.475000</td>\n",
       "      <td>240.700000</td>\n",
       "      <td>238.400000</td>\n",
       "      <td>239.450000</td>\n",
       "      <td>2452.347750</td>\n",
       "      <td>1550.250000</td>\n",
       "      <td>1228.605250</td>\n",
       "      <td>3.038831e+05</td>\n",
       "      <td>-0.198969</td>\n",
       "      <td>-0.199446</td>\n",
       "      <td>-38.649886</td>\n",
       "      <td>238.021234</td>\n",
       "      <td>238.355328</td>\n",
       "      <td>-0.368427</td>\n",
       "    </tr>\n",
       "    <tr>\n",
       "      <th>50%</th>\n",
       "      <td>247.850000</td>\n",
       "      <td>248.550000</td>\n",
       "      <td>247.000000</td>\n",
       "      <td>247.900000</td>\n",
       "      <td>3910.917000</td>\n",
       "      <td>2116.000000</td>\n",
       "      <td>1937.888000</td>\n",
       "      <td>4.782876e+05</td>\n",
       "      <td>0.000000</td>\n",
       "      <td>0.000000</td>\n",
       "      <td>0.330792</td>\n",
       "      <td>247.025280</td>\n",
       "      <td>246.676098</td>\n",
       "      <td>-0.018651</td>\n",
       "    </tr>\n",
       "    <tr>\n",
       "      <th>75%</th>\n",
       "      <td>261.400000</td>\n",
       "      <td>261.700000</td>\n",
       "      <td>260.900000</td>\n",
       "      <td>261.400000</td>\n",
       "      <td>7167.179000</td>\n",
       "      <td>3204.750000</td>\n",
       "      <td>3647.427500</td>\n",
       "      <td>8.777730e+05</td>\n",
       "      <td>0.189197</td>\n",
       "      <td>0.189359</td>\n",
       "      <td>60.260531</td>\n",
       "      <td>261.429681</td>\n",
       "      <td>261.290143</td>\n",
       "      <td>0.248304</td>\n",
       "    </tr>\n",
       "    <tr>\n",
       "      <th>max</th>\n",
       "      <td>268.000000</td>\n",
       "      <td>268.000000</td>\n",
       "      <td>267.000000</td>\n",
       "      <td>267.600000</td>\n",
       "      <td>93953.404000</td>\n",
       "      <td>54601.000000</td>\n",
       "      <td>37759.535000</td>\n",
       "      <td>8.850423e+06</td>\n",
       "      <td>2.606429</td>\n",
       "      <td>2.606429</td>\n",
       "      <td>2365.060509</td>\n",
       "      <td>267.600000</td>\n",
       "      <td>267.600000</td>\n",
       "      <td>1.118066</td>\n",
       "    </tr>\n",
       "  </tbody>\n",
       "</table>\n",
       "</div>"
      ],
      "text/plain": [
       "             Open        High         Low       Close        Volume  \\\n",
       "count  380.000000  380.000000  380.000000  380.000000    380.000000   \n",
       "mean   249.113684  249.874737  248.325526  249.069737   6605.284061   \n",
       "std     11.681531   11.420633   11.834285   11.646892   8573.625128   \n",
       "min    220.400000  223.100000  220.000000  220.400000    713.984000   \n",
       "25%    239.475000  240.700000  238.400000  239.450000   2452.347750   \n",
       "50%    247.850000  248.550000  247.000000  247.900000   3910.917000   \n",
       "75%    261.400000  261.700000  260.900000  261.400000   7167.179000   \n",
       "max    268.000000  268.000000  267.000000  267.600000  93953.404000   \n",
       "\n",
       "       Total Trades  Buyer Base Volume  Taker buy quote asset volume  \\\n",
       "count    380.000000         380.000000                  3.800000e+02   \n",
       "mean    3083.984211        3238.392932                  7.910029e+05   \n",
       "std     3796.541706        3979.558461                  9.452215e+05   \n",
       "min      655.000000         222.366000                  5.815345e+04   \n",
       "25%     1550.250000        1228.605250                  3.038831e+05   \n",
       "50%     2116.000000        1937.888000                  4.782876e+05   \n",
       "75%     3204.750000        3647.427500                  8.777730e+05   \n",
       "max    54601.000000       37759.535000                  8.850423e+06   \n",
       "\n",
       "           Change  Next Change  Buyer Volume Change      EMA 12      EMA 26  \\\n",
       "count  380.000000   379.000000           379.000000  380.000000  380.000000   \n",
       "mean    -0.015849    -0.015497            35.998738  249.291038  249.595541   \n",
       "std      0.485851     0.486444           180.309824   11.626165   11.575001   \n",
       "min     -4.270315    -4.270315           -82.767404  228.288232  230.540113   \n",
       "25%     -0.198969    -0.199446           -38.649886  238.021234  238.355328   \n",
       "50%      0.000000     0.000000             0.330792  247.025280  246.676098   \n",
       "75%      0.189197     0.189359            60.260531  261.429681  261.290143   \n",
       "max      2.606429     2.606429          2365.060509  267.600000  267.600000   \n",
       "\n",
       "       Difference  \n",
       "count  380.000000  \n",
       "mean    -0.128159  \n",
       "std      0.603785  \n",
       "min     -2.182300  \n",
       "25%     -0.368427  \n",
       "50%     -0.018651  \n",
       "75%      0.248304  \n",
       "max      1.118066  "
      ]
     },
     "execution_count": 70,
     "metadata": {},
     "output_type": "execute_result"
    }
   ],
   "source": [
    "# df[ df[\"Next Change\"] > 0.5 ]\n",
    "df.describe()"
   ]
  },
  {
   "cell_type": "code",
   "execution_count": 7,
   "id": "dc72f742",
   "metadata": {},
   "outputs": [
    {
     "data": {
      "text/plain": [
       "<matplotlib.collections.PathCollection at 0x1b89c1e7f28>"
      ]
     },
     "execution_count": 7,
     "metadata": {},
     "output_type": "execute_result"
    },
    {
     "data": {
      "image/png": "[encoded data removed]",
      "text/plain": [
       "<Figure size 432x288 with 1 Axes>"
      ]
     },
     "metadata": {
      "needs_background": "light"
     },
     "output_type": "display_data"
    }
   ],
   "source": [
    "df.dropna(inplace=True)\n",
    "plt.scatter( df[\"Taker buy quote asset volume\"],df[\"Next Change\"] )\n",
    "# plt.plot(x,y)\n"
   ]
  },
  {
   "cell_type": "code",
   "execution_count": 95,
   "id": "36315dbf",
   "metadata": {
    "scrolled": true
   },
   "outputs": [],
   "source": [
    "df.dropna(inplace=True)\n",
    "feature_matrix = df[ [\"Volume\",\"Total Trades\",\"Change\",\"Buyer Volume Change\",\"Taker buy quote asset volume\",\"Buyer Base Volume\",\"Difference\"] ]\n",
    "# feature_matrix.dropna(inplace=True)\n",
    "feature_matrix = np.array(feature_matrix)"
   ]
  },
  {
   "cell_type": "code",
   "execution_count": 96,
   "id": "ca8eb826",
   "metadata": {},
   "outputs": [
    {
     "data": {
      "image/png": "[encoded data removed]",
      "text/plain": [
       "<Figure size 432x288 with 1 Axes>"
      ]
     },
     "metadata": {
      "needs_background": "light"
     },
     "output_type": "display_data"
    }
   ],
   "source": [
    "nc = 5\n",
    "kmeans = cluster.KMeans(init=\"k-means++\",n_init=nc,n_clusters=nc,random_state=0)\n",
    "fig,ax = plt.subplots()\n",
    "kmeans.fit(feature_matrix[:,:])\n",
    "labels = kmeans.predict(feature_matrix[:,:])\n",
    "for label in range(nc):\n",
    "    ax.scatter(df[\"Difference\"][labels == label],df[\"Next Change\"][labels == label])"
   ]
  },
  {
   "cell_type": "code",
   "execution_count": 105,
   "id": "445e1c68",
   "metadata": {},
   "outputs": [
    {
     "data": {
      "text/plain": [
       "[<matplotlib.lines.Line2D at 0x1c8fc596978>]"
      ]
     },
     "execution_count": 105,
     "metadata": {},
     "output_type": "execute_result"
    },
    {
     "data": {
      "image/png": "[encoded data removed]",
      "text/plain": [
       "<Figure size 432x288 with 1 Axes>"
      ]
     },
     "metadata": {
      "needs_background": "light"
     },
     "output_type": "display_data"
    }
   ],
   "source": [
    "label = 0\n",
    "x = feature_matrix[:,-1][labels == label]\n",
    "y = df[\"Next Change\"][labels == label]\n",
    "tmp = np.polyfit(x,y,4)\n",
    "fit = np.poly1d(tmp)\n",
    "plt.scatter(x,y)\n",
    "plt.plot(x,fit(x))"
   ]
  },
  {
   "cell_type": "code",
   "execution_count": 35,
   "id": "d9daeab9",
   "metadata": {
    "scrolled": true
   },
   "outputs": [
    {
     "data": {
      "text/plain": [
       "-7292780.389474869"
      ]
     },
     "execution_count": 35,
     "metadata": {},
     "output_type": "execute_result"
    }
   ],
   "source": [
    "fit(feature_matrix[-1,-1])"
   ]
  },
  {
   "cell_type": "code",
   "execution_count": 36,
   "id": "3a4ff9da",
   "metadata": {},
   "outputs": [
    {
     "data": {
      "text/plain": [
       "33"
      ]
     },
     "execution_count": 36,
     "metadata": {},
     "output_type": "execute_result"
    }
   ],
   "source": [
    "tmp = df[ df[\"Buyer Volume Change\"] > 500 ]\n",
    "len(tmp)"
   ]
  },
  {
   "cell_type": "code",
   "execution_count": 38,
   "id": "60c045cc",
   "metadata": {},
   "outputs": [
    {
     "data": {
      "text/plain": [
       "17"
      ]
     },
     "execution_count": 38,
     "metadata": {},
     "output_type": "execute_result"
    }
   ],
   "source": [
    "len(tmp[ tmp[\"Next Change\"] > 0 ])"
   ]
  },
  {
   "cell_type": "code",
   "execution_count": 88,
   "id": "c69ae0fa",
   "metadata": {},
   "outputs": [
    {
     "data": {
      "text/plain": [
       "<matplotlib.collections.PathCollection at 0x1c8fc469630>"
      ]
     },
     "execution_count": 88,
     "metadata": {},
     "output_type": "execute_result"
    },
    {
     "data": {
      "image/png": "[encoded data removed]",
      "text/plain": [
       "<Figure size 432x288 with 1 Axes>"
      ]
     },
     "metadata": {
      "needs_background": "light"
     },
     "output_type": "display_data"
    }
   ],
   "source": [
    "tmp = df[ abs(df[\"Difference\"]) > 2 ]\n",
    "tmp = df\n",
    "plt.scatter( tmp[\"Difference\"], tmp[\"Next Change\"] )"
   ]
  },
  {
   "cell_type": "code",
   "execution_count": 42,
   "id": "7ec8e25e",
   "metadata": {},
   "outputs": [
    {
     "data": {
      "text/plain": [
       "<AxesSubplot:>"
      ]
     },
     "execution_count": 42,
     "metadata": {},
     "output_type": "execute_result"
    },
    {
     "data": {
      "image/png": "[encoded data removed]",
      "text/plain": [
       "<Figure size 720x360 with 1 Axes>"
      ]
     },
     "metadata": {
      "needs_background": "light"
     },
     "output_type": "display_data"
    }
   ],
   "source": [
    "import pandas as pd\n",
    "import numpy as np\n",
    "\n",
    "# Load the data\n",
    "# data = pd.read_csv(\"data.csv\", parse_dates=True, index_col=\"Date\")\n",
    "data = df\n",
    "\n",
    "# Compute the moving averages\n",
    "data[\"SMA_50\"] = data[\"Close\"].rolling(window=20).mean()\n",
    "data[\"SMA_200\"] = data[\"Close\"].rolling(window=50).mean()\n",
    "\n",
    "# Initialize the signals\n",
    "data[\"Signal\"] = np.where((data[\"SMA_50\"] > data[\"SMA_200\"]) & (data[\"SMA_50\"].shift(1) <= data[\"SMA_200\"].shift(1)), 1, 0)\n",
    "\n",
    "# Shift the signals one day forward\n",
    "data[\"Signal\"] = data[\"Signal\"].shift(1)\n",
    "\n",
    "# Calculate the returns\n",
    "data[\"Return\"] = (data[\"Close\"] - data[\"Open\"])*100/data[\"Open\"]\n",
    "\n",
    "# Calculate the strategy returns\n",
    "data[\"Strategy Return\"] = data[\"Signal\"] * data[\"Return\"]\n",
    "\n",
    "# Calculate the cumulative returns\n",
    "data[\"Cumulative Return\"] = data[\"Strategy Return\"].cumsum()\n",
    "\n",
    "# Plot the returns\n",
    "data[[\"Cumulative Return\"]].plot(figsize=(10, 5))\n"
   ]
  },
  {
   "cell_type": "code",
   "execution_count": 27,
   "id": "f9bf52bd",
   "metadata": {},
   "outputs": [
    {
     "data": {
      "text/plain": [
       "count    19094.000000\n",
       "mean         0.000009\n",
       "std          0.000812\n",
       "min         -0.035474\n",
       "25%          0.000000\n",
       "50%          0.000000\n",
       "75%          0.000000\n",
       "max          0.027642\n",
       "Name: Strategy Return, dtype: float64"
      ]
     },
     "execution_count": 27,
     "metadata": {},
     "output_type": "execute_result"
    }
   ],
   "source": [
    "data[\"Strategy Return\"].describe()"
   ]
  },
  {
   "cell_type": "code",
   "execution_count": 53,
   "id": "8cbab878",
   "metadata": {},
   "outputs": [
    {
     "data": {
      "text/plain": [
       "<AxesSubplot:>"
      ]
     },
     "execution_count": 53,
     "metadata": {},
     "output_type": "execute_result"
    },
    {
     "data": {
      "image/png": "[encoded data removed]",
      "text/plain": [
       "<Figure size 720x360 with 1 Axes>"
      ]
     },
     "metadata": {
      "needs_background": "light"
     },
     "output_type": "display_data"
    }
   ],
   "source": [
    "import pandas as pd\n",
    "import numpy as np\n",
    "\n",
    "# Load the data\n",
    "# data = pd.read_csv(\"data.csv\", parse_dates=True, index_col=\"Date\")\n",
    "\n",
    "# Calculate the RSI\n",
    "data = df\n",
    "data[\"RSI\"] = talib.RSI(data[\"Close\"], timeperiod=14)\n",
    "\n",
    "# Initialize the signals\n",
    "data[\"Signal\"] = np.where((data[\"RSI\"] > 70) | (data[\"RSI\"] < 30), 1, 0)\n",
    "\n",
    "# Shift the signals one day forward\n",
    "data[\"Signal\"] = data[\"Signal\"].shift(1)\n",
    "\n",
    "# Calculate the returns\n",
    "data[\"Return\"] = (data[\"Close\"] - data[\"Open\"])*100/data[\"Open\"]\n",
    "\n",
    "# Calculate the strategy returns\n",
    "data[\"Strategy Return\"] = data[\"Signal\"] * data[\"Return\"]\n",
    "\n",
    "# Calculate the cumulative returns\n",
    "data[\"Cumulative Return\"] = data[\"Strategy Return\"].cumsum()\n",
    "\n",
    "# Plot the returns\n",
    "data[[\"Cumulative Return\"]].plot(figsize=(10, 5))\n"
   ]
  },
  {
   "cell_type": "code",
   "execution_count": null,
   "id": "681b82f7",
   "metadata": {},
   "outputs": [],
   "source": []
  },
  {
   "cell_type": "code",
   "execution_count": null,
   "id": "46bcb44a",
   "metadata": {
    "scrolled": true
   },
   "outputs": [],
   "source": []
  },
  {
   "cell_type": "code",
   "execution_count": null,
   "id": "d7f437f7",
   "metadata": {},
   "outputs": [],
   "source": []
  }
 ],
 "metadata": {
  "kernelspec": {
   "display_name": "Python 3 (ipykernel)",
   "language": "python",
   "name": "python3"
  },
  "language_info": {
   "codemirror_mode": {
    "name": "ipython",
    "version": 3
   },
   "file_extension": ".py",
   "mimetype": "text/x-python",
   "name": "python",
   "nbconvert_exporter": "python",
   "pygments_lexer": "ipython3",
   "version": "3.7.0"
  },
  "vscode": {
   "interpreter": {
    "hash": "8a5edab282632443219e051e4ade2d1d5bbc671c781051bf1437897cbdfea0f1"
   }
  }
 },
 "nbformat": 4,
 "nbformat_minor": 5
}
