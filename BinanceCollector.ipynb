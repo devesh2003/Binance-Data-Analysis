{
 "cells": [
  {
   "cell_type": "code",
   "execution_count": 10,
   "id": "94ea45bf",
   "metadata": {},
   "outputs": [],
   "source": [
    "import os\n",
    "import requests\n",
    "from datetime import datetime,timedelta,date\n",
    "import shutil\n",
    "import pandas as pd\n",
    "import numpy as np"
   ]
  },
  {
   "cell_type": "code",
   "execution_count": 47,
   "id": "08dd5738",
   "metadata": {},
   "outputs": [],
   "source": [
    "class BinanceCollector:\n",
    "    def __init__(self,asset,start_date,end_date,interval):\n",
    "        self.start = start_date\n",
    "        self.end = end_date\n",
    "        self.asset = asset\n",
    "        self.interval = interval\n",
    "        self.url = f\"https://data.binance.vision/data/spot/daily/klines/{self.asset}/{self.interval}/\"\n",
    "        tmp = start_date.split(\"-\")\n",
    "        self.date = date(int(tmp[0]),int(tmp[1]),int(tmp[2]))\n",
    "        \n",
    "        if not os.path.isdir(\"Data\"):\n",
    "            os.mkdir(\"Data\")\n",
    "    \n",
    "    def make_url(self,date):\n",
    "        return self.url+f\"{self.asset}-{self.interval}-{date}.zip\"\n",
    "    \n",
    "    def check(self,date):\n",
    "        if os.path.isfile(f\"Data/{self.asset}-{self.interval}-{date}.zip\"):\n",
    "            return True\n",
    "        else:\n",
    "            return False\n",
    "    \n",
    "    def construct_date(self,date_obj):\n",
    "        year = 0\n",
    "        month = 0\n",
    "        day = 0\n",
    "        if len(str(date_obj.month)) == 2:\n",
    "            month = date_obj.month\n",
    "        else:\n",
    "            month = \"0\"+str(date_obj.month)\n",
    "\n",
    "        if len(str(date_obj.day)) == 2:\n",
    "            day = date_obj.day\n",
    "        else:\n",
    "            day = \"0\"+str(date_obj.day)\n",
    "        \n",
    "        return f\"{date_obj.year}-{month}-{day}\"\n",
    "        \n",
    "    def start_collect(self):\n",
    "        self.df = []\n",
    "        date = self.construct_date(self.date)\n",
    "        while date != self.end:\n",
    "            name = f\"./Data/{self.asset}-{self.interval}-{date}.zip\"\n",
    "            url = self.make_url(date)\n",
    "#             print(url)\n",
    "            if not self.check(date):\n",
    "                r = requests.get(url,verify=False,allow_redirects=True)\n",
    "                with open(name,\"wb\") as f:\n",
    "                    f.write(r.content)\n",
    "                shutil.unpack_archive(name,\"./Data\")\n",
    "#                 print(name)\n",
    "            tmp = pd.read_csv(f\"./Data/{self.asset}-{self.interval}-{date}.csv\")\n",
    "#             print(tmp)\n",
    "            self.df.append(np.array(tmp))\n",
    "            self.date += timedelta(days=1)\n",
    "            date = self.construct_date(self.date)\n",
    "            \n",
    "        self.df = np.concatenate(self.df)\n",
    "        self.df = pd.DataFrame(self.df)"
   ]
  },
  {
   "cell_type": "code",
   "execution_count": 50,
   "id": "b6fbaf8b",
   "metadata": {},
   "outputs": [],
   "source": [
    "obj = BinanceCollector(\"APEUSDT\",\"2022-11-30\",\"2022-12-03\",\"15m\")"
   ]
  },
  {
   "cell_type": "code",
   "execution_count": 51,
   "id": "f093e974",
   "metadata": {},
   "outputs": [
    {
     "name": "stderr",
     "output_type": "stream",
     "text": [
      "c:\\Users\\deves\\AppData\\Local\\Programs\\Python\\Python38-32\\lib\\site-packages\\requests\\packages\\urllib3\\connectionpool.py:764: InsecureRequestWarning: Unverified HTTPS request is being made. Adding certificate verification is strongly advised. See: https://urllib3.readthedocs.org/en/latest/security.html\n",
      "  warnings.warn((\n",
      "c:\\Users\\deves\\AppData\\Local\\Programs\\Python\\Python38-32\\lib\\site-packages\\requests\\packages\\urllib3\\connectionpool.py:764: InsecureRequestWarning: Unverified HTTPS request is being made. Adding certificate verification is strongly advised. See: https://urllib3.readthedocs.org/en/latest/security.html\n",
      "  warnings.warn((\n",
      "c:\\Users\\deves\\AppData\\Local\\Programs\\Python\\Python38-32\\lib\\site-packages\\requests\\packages\\urllib3\\connectionpool.py:764: InsecureRequestWarning: Unverified HTTPS request is being made. Adding certificate verification is strongly advised. See: https://urllib3.readthedocs.org/en/latest/security.html\n",
      "  warnings.warn((\n"
     ]
    }
   ],
   "source": [
    "obj.start_collect()\n",
    "# # https://data.binance.vision/data/spot/daily/klines/APEUSDT/15m/APEUSDT-15m-2022-12-17.zip\n",
    "# # https://data.binance.vision/?prefix=data/spot/daily/klines/APEUSDT/15m/APEUSDT-15m-2022-12-16.zip"
   ]
  },
  {
   "cell_type": "code",
   "execution_count": 172,
   "id": "d41c2ffc",
   "metadata": {},
   "outputs": [],
   "source": [
    "# shutil.unpack_archive(\"./Data/APEUSDT-15m-2022-12-17.zip\",\"./Data\")"
   ]
  },
  {
   "cell_type": "code",
   "execution_count": 6,
   "id": "bdc10938",
   "metadata": {},
   "outputs": [],
   "source": [
    "a = datetime.strptime(\"2022-11-31\",\"%Y-%M-%d\")"
   ]
  },
  {
   "cell_type": "code",
   "execution_count": 7,
   "id": "9104b4e5",
   "metadata": {},
   "outputs": [
    {
     "data": {
      "text/plain": [
       "datetime.datetime(2022, 2, 1, 0, 11)"
      ]
     },
     "execution_count": 7,
     "metadata": {},
     "output_type": "execute_result"
    }
   ],
   "source": [
    "a + timedelta(days=1)"
   ]
  },
  {
   "cell_type": "code",
   "execution_count": 8,
   "id": "3b534916",
   "metadata": {},
   "outputs": [],
   "source": [
    "from dateutil.relativedelta import relativedelta"
   ]
  },
  {
   "cell_type": "code",
   "execution_count": 9,
   "id": "b68bc526",
   "metadata": {},
   "outputs": [
    {
     "data": {
      "text/plain": [
       "datetime.datetime(2022, 2, 1, 0, 11)"
      ]
     },
     "execution_count": 9,
     "metadata": {},
     "output_type": "execute_result"
    }
   ],
   "source": [
    "a + relativedelta(days=1)"
   ]
  },
  {
   "cell_type": "code",
   "execution_count": 42,
   "id": "4f7afe73",
   "metadata": {},
   "outputs": [],
   "source": [
    "a = date(2022,1,30)"
   ]
  },
  {
   "cell_type": "code",
   "execution_count": 43,
   "id": "179c26c7",
   "metadata": {},
   "outputs": [
    {
     "data": {
      "text/plain": [
       "1"
      ]
     },
     "execution_count": 43,
     "metadata": {},
     "output_type": "execute_result"
    }
   ],
   "source": [
    "a.month"
   ]
  },
  {
   "cell_type": "code",
   "execution_count": null,
   "id": "55f61782",
   "metadata": {},
   "outputs": [],
   "source": []
  }
 ],
 "metadata": {
  "kernelspec": {
   "display_name": "Python 3",
   "language": "python",
   "name": "python3"
  },
  "language_info": {
   "codemirror_mode": {
    "name": "ipython",
    "version": 3
   },
   "file_extension": ".py",
   "mimetype": "text/x-python",
   "name": "python",
   "nbconvert_exporter": "python",
   "pygments_lexer": "ipython3",
   "version": "3.8.5"
  },
  "vscode": {
   "interpreter": {
    "hash": "19a222a4543295861d35832f2c434d614dcda66a2cdc7675b131359df4e8ea90"
   }
  }
 },
 "nbformat": 4,
 "nbformat_minor": 5
}
