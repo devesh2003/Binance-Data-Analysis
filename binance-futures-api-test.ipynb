{
 "cells": [
  {
   "cell_type": "code",
   "execution_count": 1,
   "id": "9d660bbe",
   "metadata": {},
   "outputs": [
    {
     "name": "stderr",
     "output_type": "stream",
     "text": [
      "c:\\users\\deves\\appdata\\local\\programs\\python\\python37\\lib\\site-packages\\requests\\__init__.py:114: RequestsDependencyWarning: urllib3 (1.26.9) or chardet (5.0.0)/charset_normalizer (2.0.12) doesn't match a supported version!\n",
      "  RequestsDependencyWarning,\n"
     ]
    }
   ],
   "source": [
    "from binance.client import Client"
   ]
  },
  {
   "cell_type": "code",
   "execution_count": 15,
   "id": "9ae91d63",
   "metadata": {},
   "outputs": [],
   "source": [
    "api_key = \"6H6I2V0QFkWJ1OSYEc60wVhk82rVAQRoxJVMkDIFvwltSGPUen1qsdm7zIJqDump\"\n",
    "api_secret = \"PiVU0i8eKzx4wiNj5IHYNRVGNFBePlycRksQqRzNeV2hmxd0tsje6ysSi7HEPqpE\"\n",
    "\n",
    "leverage = 5\n",
    "mode = \"ISOLATED\"\n",
    "symbol = \"SANDUSDT\""
   ]
  },
  {
   "cell_type": "code",
   "execution_count": 20,
   "id": "b5ca73f7",
   "metadata": {},
   "outputs": [
    {
     "data": {
      "text/plain": [
       "{'symbol': 'SANDUSDT', 'leverage': 5, 'maxNotionalValue': '500000'}"
      ]
     },
     "execution_count": 20,
     "metadata": {},
     "output_type": "execute_result"
    }
   ],
   "source": [
    "# Initialize the client with your API key\n",
    "client = Client(api_key, api_secret)\n",
    "\n",
    "# client.futures_change_margin_type(symbol=symbol,marginType=mode)\n",
    "client.futures_change_leverage(symbol=symbol,leverage=leverage)"
   ]
  },
  {
   "cell_type": "code",
   "execution_count": 14,
   "id": "4bb9feda",
   "metadata": {},
   "outputs": [
    {
     "data": {
      "text/plain": [
       "{'orderId': 12064954501,\n",
       " 'symbol': 'SANDUSDT',\n",
       " 'status': 'NEW',\n",
       " 'clientOrderId': 'D4aL8IrOb6fDtUHAnMlL8J',\n",
       " 'price': '0',\n",
       " 'avgPrice': '0.00000',\n",
       " 'origQty': '10',\n",
       " 'executedQty': '0',\n",
       " 'cumQty': '0',\n",
       " 'cumQuote': '0',\n",
       " 'timeInForce': 'GTC',\n",
       " 'type': 'MARKET',\n",
       " 'reduceOnly': False,\n",
       " 'closePosition': False,\n",
       " 'side': 'BUY',\n",
       " 'positionSide': 'BOTH',\n",
       " 'stopPrice': '0',\n",
       " 'workingType': 'CONTRACT_PRICE',\n",
       " 'priceProtect': False,\n",
       " 'origType': 'MARKET',\n",
       " 'updateTime': 1673975724869}"
      ]
     },
     "execution_count": 14,
     "metadata": {},
     "output_type": "execute_result"
    }
   ],
   "source": [
    "client.futures_create_order(symbol=\"SANDUSDT\", side='BUY', type='MARKET', quantity=1.0*10)"
   ]
  },
  {
   "cell_type": "code",
   "execution_count": 26,
   "id": "ba2c4ac7",
   "metadata": {},
   "outputs": [
    {
     "data": {
      "text/plain": [
       "{'orderId': 12065061707,\n",
       " 'symbol': 'SANDUSDT',\n",
       " 'status': 'NEW',\n",
       " 'clientOrderId': 'e9BZT9Z3cVM83DV387ettn',\n",
       " 'price': '0.20000',\n",
       " 'avgPrice': '0.00000',\n",
       " 'origQty': '80',\n",
       " 'executedQty': '0',\n",
       " 'cumQty': '0',\n",
       " 'cumQuote': '0',\n",
       " 'timeInForce': 'GTC',\n",
       " 'type': 'LIMIT',\n",
       " 'reduceOnly': False,\n",
       " 'closePosition': False,\n",
       " 'side': 'BUY',\n",
       " 'positionSide': 'BOTH',\n",
       " 'stopPrice': '0',\n",
       " 'workingType': 'CONTRACT_PRICE',\n",
       " 'priceProtect': False,\n",
       " 'origType': 'LIMIT',\n",
       " 'updateTime': 1673976386297}"
      ]
     },
     "execution_count": 26,
     "metadata": {},
     "output_type": "execute_result"
    }
   ],
   "source": [
    "client.futures_create_order(symbol=\"SANDUSDT\", side='BUY', type='LIMIT',price=0.2, quantity=20.0*4,timeInForce=\"GTC\")"
   ]
  },
  {
   "cell_type": "code",
   "execution_count": null,
   "id": "d9409ed3",
   "metadata": {},
   "outputs": [],
   "source": []
  }
 ],
 "metadata": {
  "kernelspec": {
   "display_name": "Python 3 (ipykernel)",
   "language": "python",
   "name": "python3"
  },
  "language_info": {
   "codemirror_mode": {
    "name": "ipython",
    "version": 3
   },
   "file_extension": ".py",
   "mimetype": "text/x-python",
   "name": "python",
   "nbconvert_exporter": "python",
   "pygments_lexer": "ipython3",
   "version": "3.7.0"
  }
 },
 "nbformat": 4,
 "nbformat_minor": 5
}
