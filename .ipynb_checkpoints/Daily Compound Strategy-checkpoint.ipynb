{
 "cells": [
  {
   "cell_type": "code",
   "execution_count": 1,
   "id": "e3940023",
   "metadata": {},
   "outputs": [
    {
     "name": "stderr",
     "output_type": "stream",
     "text": [
      "c:\\users\\deves\\appdata\\local\\programs\\python\\python37\\lib\\site-packages\\requests\\__init__.py:114: RequestsDependencyWarning: urllib3 (1.26.9) or chardet (5.0.0)/charset_normalizer (2.0.12) doesn't match a supported version!\n",
      "  RequestsDependencyWarning,\n"
     ]
    }
   ],
   "source": [
    "import pandas as pd\n",
    "import numpy as np \n",
    "import matplotlib.pyplot as plt\n",
    "from BinanceCollector import BinanceCollector"
   ]
  },
  {
   "cell_type": "code",
   "execution_count": 2,
   "id": "ea9d8a02",
   "metadata": {},
   "outputs": [],
   "source": [
    "collector = BinanceCollector(\"ETHUSDT\",\"2021-06-01\",\"2022-12-19\",\"15m\")\n",
    "collector.start_collect()\n",
    "collector.df.columns = [\"Open Time\",\"Open\",\"High\",\"Low\",\"Close\",\"Volume\",\"Close Time\",\n",
    "             \"Quote asset volumne\",\"Total Trades\",\"Buyer Base Volume\",\n",
    "             \"Taker buy quote asset volume\",\"Ignore\"]\n",
    "data = collector.df"
   ]
  },
  {
   "cell_type": "code",
   "execution_count": 12,
   "id": "8ce61e20",
   "metadata": {},
   "outputs": [],
   "source": [
    "data[\"Return\"] = (data[\"Close\"] - data[\"Open\"])*100/data[\"Open\"]"
   ]
  },
  {
   "cell_type": "code",
   "execution_count": 24,
   "id": "8d0f4f3f",
   "metadata": {},
   "outputs": [
    {
     "name": "stdout",
     "output_type": "stream",
     "text": [
      "Target: 2580.86829\n",
      "Liquidation: 2552.5071\n",
      "Target: 2689.3466599999997\n",
      "Liquidation: 2659.7934\n",
      "Target: 2867.0942299999997\n",
      "Liquidation: 2835.5877\n",
      "Target: 2638.9763399999997\n",
      "Liquidation: 2609.9766\n",
      "Target: 2683.9312499999996\n",
      "Liquidation: 2654.4375\n",
      "Target: 2786.7739899999997\n",
      "Liquidation: 2756.1501\n",
      "Target: 2522.1195999999995\n",
      "Liquidation: 2494.404\n",
      "Target: 2560.14759\n",
      "Liquidation: 2532.0141000000003\n",
      "Target: 2486.0235399999997\n",
      "Liquidation: 2458.7046\n"
     ]
    }
   ],
   "source": [
    "day = 0\n",
    "liquidation_factor = 1\n",
    "returns = 0\n",
    "while day != 10:\n",
    "    cur = np.random.randint(96) + 96*day\n",
    "    target_price = data[\"Close\"][cur] * (1 + (0.1)/100)\n",
    "    liquidation_price = data[\"Close\"][cur] * (1 - (liquidation_factor)/100)\n",
    "    while True:\n",
    "        cur += 1\n",
    "        if data[\"High\"][cur] >= target_price:\n",
    "            returns += 1\n",
    "            print(f\"Target: {target_price}\\nLiquidation: {liquidation_price}\")\n",
    "            break\n",
    "        elif data[\"Low\"][cur] <= liquidation_price:\n",
    "            returns -= 100\n",
    "            break\n",
    "    day += 1"
   ]
  },
  {
   "cell_type": "code",
   "execution_count": 25,
   "id": "332baa8e",
   "metadata": {},
   "outputs": [
    {
     "data": {
      "text/plain": [
       "-91"
      ]
     },
     "execution_count": 25,
     "metadata": {},
     "output_type": "execute_result"
    }
   ],
   "source": [
    "returns"
   ]
  },
  {
   "cell_type": "code",
   "execution_count": null,
   "id": "b56f9809",
   "metadata": {},
   "outputs": [],
   "source": []
  }
 ],
 "metadata": {
  "kernelspec": {
   "display_name": "Python 3 (ipykernel)",
   "language": "python",
   "name": "python3"
  },
  "language_info": {
   "codemirror_mode": {
    "name": "ipython",
    "version": 3
   },
   "file_extension": ".py",
   "mimetype": "text/x-python",
   "name": "python",
   "nbconvert_exporter": "python",
   "pygments_lexer": "ipython3",
   "version": "3.7.0"
  }
 },
 "nbformat": 4,
 "nbformat_minor": 5
}
