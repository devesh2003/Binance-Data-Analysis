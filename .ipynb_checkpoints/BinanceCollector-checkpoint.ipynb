{
 "cells": [
  {
   "cell_type": "code",
   "execution_count": 168,
   "id": "94ea45bf",
   "metadata": {},
   "outputs": [],
   "source": [
    "import os\n",
    "import requests\n",
    "from datetime import datetime,timedelta\n",
    "import shutil\n",
    "import pandas as pd\n",
    "import numpy as np"
   ]
  },
  {
   "cell_type": "code",
   "execution_count": 194,
   "id": "08dd5738",
   "metadata": {},
   "outputs": [],
   "source": [
    "class BinanceCollector:\n",
    "    def __init__(self,asset,start_date,end_date,interval):\n",
    "        self.start = start_date\n",
    "        self.end = end_date\n",
    "        self.asset = asset\n",
    "        self.interval = interval\n",
    "        self.url = f\"https://data.binance.vision/data/spot/daily/klines/{self.asset}/{self.interval}/\"\n",
    "        self.date = datetime.strptime(start_date,\"%Y-%M-%d\")\n",
    "        \n",
    "        if not os.path.isdir(\"Data\"):\n",
    "            os.mkdir(\"Data\")\n",
    "    \n",
    "    def make_url(self,date):\n",
    "        return self.url+f\"{self.asset}-{self.interval}-{date}.zip\"\n",
    "    \n",
    "    def check(self,date):\n",
    "        if os.path.isfile(f\"Data/{self.asset}-{self.interval}-{date}.zip\"):\n",
    "            return True\n",
    "        else:\n",
    "            return False\n",
    "        \n",
    "    def start_collect(self):\n",
    "        self.df = []\n",
    "        date = self.date.strftime(\"%Y-%M-%d\")\n",
    "        while date != self.end:\n",
    "            name = f\"./Data/{self.asset}-{self.interval}-{date}.zip\"\n",
    "            url = self.make_url(date)\n",
    "#             print(url)\n",
    "            if not self.check(date):\n",
    "                r = requests.get(url,verify=False,allow_redirects=True)\n",
    "                with open(name,\"wb\") as f:\n",
    "                    f.write(r.content)\n",
    "                shutil.unpack_archive(name,\"./Data\")\n",
    "#                 print(name)\n",
    "            tmp = pd.read_csv(f\"./Data/{self.asset}-{self.interval}-{date}.csv\")\n",
    "#             print(tmp)\n",
    "            self.df.append(np.array(tmp))\n",
    "            self.date += timedelta(days=1)\n",
    "            date = self.date.strftime(\"%Y-%M-%d\")\n",
    "            \n",
    "        self.df = np.concatenate(self.df)\n",
    "        self.df = pd.DataFrame(self.df)"
   ]
  },
  {
   "cell_type": "code",
   "execution_count": 195,
   "id": "b6fbaf8b",
   "metadata": {},
   "outputs": [],
   "source": [
    "# obj = BinanceCollector(\"APEUSDT\",\"2022-12-16\",\"2022-12-18\",\"15m\")"
   ]
  },
  {
   "cell_type": "code",
   "execution_count": 196,
   "id": "f093e974",
   "metadata": {},
   "outputs": [],
   "source": [
    "# obj.start_collect()\n",
    "# # https://data.binance.vision/data/spot/daily/klines/APEUSDT/15m/APEUSDT-15m-2022-12-17.zip\n",
    "# # https://data.binance.vision/?prefix=data/spot/daily/klines/APEUSDT/15m/APEUSDT-15m-2022-12-16.zip"
   ]
  },
  {
   "cell_type": "code",
   "execution_count": 172,
   "id": "d41c2ffc",
   "metadata": {},
   "outputs": [],
   "source": [
    "# shutil.unpack_archive(\"./Data/APEUSDT-15m-2022-12-17.zip\",\"./Data\")"
   ]
  },
  {
   "cell_type": "code",
   "execution_count": null,
   "id": "bdc10938",
   "metadata": {},
   "outputs": [],
   "source": []
  },
  {
   "cell_type": "code",
   "execution_count": null,
   "id": "9104b4e5",
   "metadata": {},
   "outputs": [],
   "source": []
  },
  {
   "cell_type": "code",
   "execution_count": null,
   "id": "3b534916",
   "metadata": {},
   "outputs": [],
   "source": []
  }
 ],
 "metadata": {
  "kernelspec": {
   "display_name": "Python 3 (ipykernel)",
   "language": "python",
   "name": "python3"
  },
  "language_info": {
   "codemirror_mode": {
    "name": "ipython",
    "version": 3
   },
   "file_extension": ".py",
   "mimetype": "text/x-python",
   "name": "python",
   "nbconvert_exporter": "python",
   "pygments_lexer": "ipython3",
   "version": "3.7.0"
  }
 },
 "nbformat": 4,
 "nbformat_minor": 5
}
