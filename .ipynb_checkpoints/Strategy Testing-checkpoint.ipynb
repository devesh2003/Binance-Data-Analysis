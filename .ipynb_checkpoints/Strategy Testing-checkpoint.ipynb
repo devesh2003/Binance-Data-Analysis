{
 "cells": [
  {
   "cell_type": "code",
   "execution_count": 112,
   "id": "f9f7a7f1",
   "metadata": {},
   "outputs": [],
   "source": [
    "import pandas as pd\n",
    "import numpy as np\n",
    "import matplotlib.pyplot as plt\n",
    "from sklearn import cluster\n",
    "import requests\n",
    "from BinanceCollector import BinanceCollector\n",
    "import warnings\n",
    "import pandas_ta as ta\n",
    "import talib\n",
    "warnings.filterwarnings(\"ignore\")"
   ]
  },
  {
   "cell_type": "code",
   "execution_count": 76,
   "id": "d50e4012",
   "metadata": {},
   "outputs": [],
   "source": [
    "def get_returns(df):\n",
    "    tmp = df\n",
    "    pass"
   ]
  },
  {
   "cell_type": "code",
   "execution_count": 100,
   "id": "494e7c68",
   "metadata": {},
   "outputs": [],
   "source": [
    "collector = BinanceCollector(\"ETHUSDT\",\"2022-06-01\",\"2022-12-19\",\"15m\")\n",
    "collector.start_collect()\n",
    "collector.df.columns = [\"Open Time\",\"Open\",\"High\",\"Low\",\"Close\",\"Volume\",\"Close Time\",\n",
    "             \"Quote asset volumne\",\"Total Trades\",\"Buyer Base Volume\",\n",
    "             \"Taker buy quote asset volume\",\"Ignore\"]\n",
    "data = collector.df"
   ]
  },
  {
   "cell_type": "code",
   "execution_count": 114,
   "id": "f78992a8",
   "metadata": {},
   "outputs": [],
   "source": [
    "data[\"Open Time\"] = pd.to_datetime(data[\"Open Time\"],unit=\"ms\")\n",
    "# Calculate the RSI\n",
    "data[\"RSI\"] = talib.RSI(data[\"Close\"], timeperiod=14)\n",
    "\n",
    "# Calculate MA\n",
    "# data[\"SMA_50\"] = data[\"Close\"].rolling(window=50).mean()\n",
    "# data[\"SMA_200\"] = data[\"Close\"].rolling(window=200).mean()\n",
    "data[\"SMA_50\"] = ta.ema(data[\"Close\"],timeperiod=50)\n",
    "data[\"SMA_50\"] = ta.ema(data[\"Close\"],timeperiod=200)\n",
    "\n",
    "# Calculate the MACD\n",
    "data[\"MACD\"], data[\"MACD_Signal\"], data[\"MACD_Hist\"] = talib.MACD(data[\"Close\"], fastperiod=12, slowperiod=26, signalperiod=9)\n",
    "\n"
   ]
  },
  {
   "cell_type": "code",
   "execution_count": 115,
   "id": "a178c20c",
   "metadata": {},
   "outputs": [],
   "source": [
    "# Initialize the signals\n",
    "data[\"Signal_RSI\"] = np.where((data[\"RSI\"] > 70) | (data[\"RSI\"] < 30), 1, 0)\n",
    "data[\"Signal_MA\"] = np.where((data[\"SMA_50\"] > data[\"SMA_200\"]) & (data[\"SMA_50\"].shift(1) <= data[\"SMA_200\"].shift(1)), 1, 0)\n",
    "data[\"Signal_MACD\"] = np.where( (data[\"MACD\"] > data[\"MACD_Signal\"]) & (data[\"MACD\"].shift(1) <= data[\"MACD_Signal\"] ),1,0 )\n",
    "\n",
    "# Shift the signals one day forward\n",
    "data[\"Signal_RSI\"] = data[\"Signal_RSI\"].shift(1)\n",
    "data[\"Signal_MA\"] = data[\"Signal_RSI\"].shift(1)\n",
    "data[\"Signal_MACD\"] = data[\"Signal_MACD\"].shift(1)"
   ]
  },
  {
   "cell_type": "code",
   "execution_count": 116,
   "id": "1b55046d",
   "metadata": {},
   "outputs": [
    {
     "data": {
      "text/plain": [
       "[<matplotlib.lines.Line2D at 0x21458af9b70>]"
      ]
     },
     "execution_count": 116,
     "metadata": {},
     "output_type": "execute_result"
    },
    {
     "data": {
      "image/png": "[encoded data removed]",
      "text/plain": [
       "<Figure size 432x288 with 1 Axes>"
      ]
     },
     "metadata": {
      "needs_background": "light"
     },
     "output_type": "display_data"
    }
   ],
   "source": [
    "# Calculate the returns\n",
    "data[\"Return\"] = (data[\"Close\"] - data[\"Open\"])*100/data[\"Open\"]\n",
    "\n",
    "# Calculate the strategy returns\n",
    "data[\"Strategy Return\"] = data[\"Signal_MA\"] * data[\"Return\"]\n",
    "\n",
    "# Calculate the cumulative returns\n",
    "data[\"Cumulative Return\"] = data[\"Strategy Return\"].cumsum()\n",
    "\n",
    "# Plot the returns\n",
    "# data[[\"Cumulative Return\"]].plot(figsize=(10, 5),)\n",
    "plt.plot(data[\"Open Time\"],data[\"Cumulative Return\"])"
   ]
  },
  {
   "cell_type": "code",
   "execution_count": 124,
   "id": "5d78daae",
   "metadata": {},
   "outputs": [
    {
     "name": "stdout",
     "output_type": "stream",
     "text": [
      "Returns: 338.26554410807853\n"
     ]
    }
   ],
   "source": [
    "trades = 0\n",
    "returns = 0\n",
    "wins = 0\n",
    "losses = 0\n",
    "neutral = 0\n",
    "for index in np.where( data[\"Signal_MA\"] == 1 )[0]:\n",
    "    target = 5/100\n",
    "    sl = 2/100\n",
    "    target_price = data[\"Close\"][index] * (1+target)\n",
    "    sl_price = data[\"Close\"][index] * (1-sl)\n",
    "    cur = index+1\n",
    "    settled = False\n",
    "    while cur < index+96 and cur < len(data):\n",
    "        if data[\"Close\"][cur] >= target_price:\n",
    "            settled = True\n",
    "            returns += 5\n",
    "            wins += 1\n",
    "            break\n",
    "        elif data[\"Close\"][cur] <= sl_price:\n",
    "            settled = True\n",
    "            returns -= 2\n",
    "            losses += 1\n",
    "            break\n",
    "        cur += 1\n",
    "    if not settled:\n",
    "        returns += (data[\"Close\"][cur-1] - data[\"Close\"][index])*100/data[\"Close\"][index] \n",
    "        neutral += 1\n",
    "        \n",
    "print(f\"Returns: {returns}\")"
   ]
  },
  {
   "cell_type": "code",
   "execution_count": 125,
   "id": "8accc752",
   "metadata": {},
   "outputs": [
    {
     "data": {
      "text/plain": [
       "380"
      ]
     },
     "execution_count": 125,
     "metadata": {},
     "output_type": "execute_result"
    }
   ],
   "source": [
    "wins"
   ]
  },
  {
   "cell_type": "code",
   "execution_count": 126,
   "id": "90f9d69a",
   "metadata": {},
   "outputs": [
    {
     "data": {
      "text/plain": [
       "1007"
      ]
     },
     "execution_count": 126,
     "metadata": {},
     "output_type": "execute_result"
    }
   ],
   "source": [
    "losses"
   ]
  },
  {
   "cell_type": "code",
   "execution_count": 127,
   "id": "05e6e6c9",
   "metadata": {},
   "outputs": [
    {
     "data": {
      "text/plain": [
       "491"
      ]
     },
     "execution_count": 127,
     "metadata": {},
     "output_type": "execute_result"
    }
   ],
   "source": [
    "neutral"
   ]
  },
  {
   "cell_type": "code",
   "execution_count": null,
   "id": "78e6ae28",
   "metadata": {},
   "outputs": [],
   "source": []
  },
  {
   "cell_type": "code",
   "execution_count": null,
   "id": "6d474223",
   "metadata": {},
   "outputs": [],
   "source": []
  }
 ],
 "metadata": {
  "kernelspec": {
   "display_name": "Python 3 (ipykernel)",
   "language": "python",
   "name": "python3"
  },
  "language_info": {
   "codemirror_mode": {
    "name": "ipython",
    "version": 3
   },
   "file_extension": ".py",
   "mimetype": "text/x-python",
   "name": "python",
   "nbconvert_exporter": "python",
   "pygments_lexer": "ipython3",
   "version": "3.7.0"
  }
 },
 "nbformat": 4,
 "nbformat_minor": 5
}
