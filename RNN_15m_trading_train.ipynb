{
 "cells": [
  {
   "cell_type": "code",
   "execution_count": 11,
   "metadata": {},
   "outputs": [],
   "source": [
    "import pandas as pd\n",
    "import numpy as np\n",
    "from tensorflow import keras\n",
    "from BinanceCollector import BinanceCollector\n",
    "from HyperBacktest import HyperBacktest\n",
    "from BreakdownCalculator import BreakdownCalculator\n",
    "import warnings\n",
    "warnings.filterwarnings(\"ignore\")\n",
    "from sklearn.model_selection import train_test_split"
   ]
  },
  {
   "cell_type": "code",
   "execution_count": 118,
   "metadata": {},
   "outputs": [],
   "source": [
    "def reshape(x):\n",
    "    return np.reshape( x,(x.shape[0],1,x.shape[1]) )"
   ]
  },
  {
   "cell_type": "code",
   "execution_count": 90,
   "metadata": {},
   "outputs": [],
   "source": [
    "def get_trades(symbol):\n",
    "    collector = BinanceCollector(symbol,\"2022-01-01\",\"2023-01-02\",\"15m\")\n",
    "    collector.start_collect()\n",
    "    collector.df.columns = [\"Open Time\",\"Open\",\"High\",\"Low\",\"Close\",\"Volume\",\"Close Time\",\n",
    "             \"Quote asset volumne\",\"Total Trades\",\"Buyer Base Volume\",\n",
    "             \"Taker buy quote asset volume\",\"Ignore\"]\n",
    "    df = collector.df\n",
    "    breakdown = BinanceCollector(symbol,\"2022-01-01\",\"2023-01-02\",\"1m\")\n",
    "    breakdown.start_collect()\n",
    "    breakdown.df.columns = [\"Open Time\",\"Open\",\"High\",\"Low\",\"Close\",\"Volume\",\"Close Time\",\n",
    "             \"Quote asset volumne\",\"Total Trades\",\"Buyer Base Volume\",\n",
    "             \"Taker buy quote asset volume\",\"Ignore\"]\n",
    "    breakdown_df = breakdown.df\n",
    "    calculator = BreakdownCalculator(breakdown_df)\n",
    "\n",
    "    # Setup metric columns\n",
    "    df[\"EMA_20\"] = df[\"Close\"].ewm(span=20,adjust=False).mean()\n",
    "    df[\"EMA_50\"] = df[\"Close\"].ewm(span=50,adjust=False).mean()\n",
    "    df[\"EMA_200\"] = df[\"Close\"].ewm(span=200,adjust=False).mean()\n",
    "    df[\"Open Time\"] = pd.to_datetime(df[\"Open Time\"],unit=\"ms\")\n",
    "    df[\"Close Time\"] = pd.to_datetime(df[\"Close Time\"]+1,unit=\"ms\")\n",
    "\n",
    "    df[\"Buy\"] = np.where( (df[\"EMA_20\"] > df[\"EMA_50\"]) & ( df['EMA_20'].shift(1) <= df[\"EMA_50\"].shift(1) ), 1, 0)\n",
    "    df[\"Sell\"] = np.where( (df[\"EMA_20\"] < df[\"EMA_50\"]) & ( df['EMA_20'].shift(1) >= df[\"EMA_50\"].shift(1) ), 1, 0 )\n",
    "    df[\"Returns\"] = 0\n",
    "    df = df[[\"Open\",\"High\",\"Low\",\"Close\",\"EMA_20\",\"EMA_50\",\"EMA_200\",\"Open Time\",\"Buy\",\"Sell\",\"Returns\"]]\n",
    "    normalize_cols = [\"Open\",\"High\",\"Low\",\"Close\",\"EMA_20\",\"EMA_50\",\"EMA_200\"]\n",
    "\n",
    "    backtest = HyperBacktest(4,-2,calculator,df)\n",
    "    backtest.run()\n",
    "    final = backtest.df\n",
    "    final[ normalize_cols ] = (final[ normalize_cols ] - final[normalize_cols].min())/(final[normalize_cols].max() - final[normalize_cols].min())\n",
    "    return final"
   ]
  },
  {
   "cell_type": "code",
   "execution_count": 92,
   "metadata": {},
   "outputs": [
    {
     "name": "stdout",
     "output_type": "stream",
     "text": [
      "Before Drop: 524\n",
      "After Drop: 419\n",
      "Before Drop: 577\n",
      "After Drop: 500\n",
      "Before Drop: 615\n",
      "After Drop: 525\n"
     ]
    }
   ],
   "source": [
    "symbols = [\"ETHUSDT\",\"SOLUSDT\",\"UNIUSDT\"]\n",
    "dfs = []\n",
    "for i in symbols:\n",
    "    df = get_trades(i)\n",
    "    dfs.append(df)\n",
    "\n",
    "df = pd.concat(dfs)\n",
    "df.reset_index(inplace=True)\n",
    "main = df.copy()"
   ]
  },
  {
   "cell_type": "code",
   "execution_count": 93,
   "metadata": {},
   "outputs": [],
   "source": [
    "df = main.copy()\n",
    "df = df[ df['Buy'] == 1 ]"
   ]
  },
  {
   "cell_type": "code",
   "execution_count": 110,
   "metadata": {},
   "outputs": [],
   "source": [
    "x = np.array(df[[\"EMA_20\",\"EMA_50\",\"EMA_200\",\"Open\",\"High\",\"Low\",\"Close\"]])\n",
    "y = np.where( df[\"Returns\"] > 3,1,0 )"
   ]
  },
  {
   "cell_type": "code",
   "execution_count": 111,
   "metadata": {},
   "outputs": [],
   "source": [
    "x_train, x_test, y_train, y_test = train_test_split(x,y,test_size=0.2)"
   ]
  },
  {
   "cell_type": "code",
   "execution_count": 112,
   "metadata": {},
   "outputs": [],
   "source": [
    "x_train = np.reshape( x_train, (x_train.shape[0],1,x_train.shape[1]) )\n",
    "x_test = np.reshape( x_test, (x_test.shape[0],1,x_test.shape[1]) )\n",
    "# y_train = np.reshape( y_train,( y_train.shape[0],1,y_train.shape[1] ) )"
   ]
  },
  {
   "cell_type": "code",
   "execution_count": 140,
   "metadata": {},
   "outputs": [
    {
     "name": "stdout",
     "output_type": "stream",
     "text": [
      "Train on 584 samples\n",
      "Epoch 1/20\n",
      "584/584 [==============================] - 1s 2ms/sample - loss: 0.6276 - acc: 0.8162\n",
      "Epoch 2/20\n",
      "584/584 [==============================] - 0s 115us/sample - loss: 0.5946 - acc: 0.8201\n",
      "Epoch 3/20\n",
      "584/584 [==============================] - 0s 86us/sample - loss: 0.5707 - acc: 0.8162\n",
      "Epoch 4/20\n",
      "584/584 [==============================] - 0s 103us/sample - loss: 0.5528 - acc: 0.8162\n",
      "Epoch 5/20\n",
      "584/584 [==============================] - 0s 118us/sample - loss: 0.5402 - acc: 0.8149\n",
      "Epoch 6/20\n",
      "584/584 [==============================] - 0s 108us/sample - loss: 0.5304 - acc: 0.8162\n",
      "Epoch 7/20\n",
      "584/584 [==============================] - 0s 99us/sample - loss: 0.5237 - acc: 0.8175\n",
      "Epoch 8/20\n",
      "584/584 [==============================] - 0s 130us/sample - loss: 0.5188 - acc: 0.8175\n",
      "Epoch 9/20\n",
      "584/584 [==============================] - 0s 113us/sample - loss: 0.5150 - acc: 0.8162\n",
      "Epoch 10/20\n",
      "584/584 [==============================] - 0s 103us/sample - loss: 0.5122 - acc: 0.8149\n",
      "Epoch 11/20\n",
      "584/584 [==============================] - 0s 113us/sample - loss: 0.5099 - acc: 0.8162\n",
      "Epoch 12/20\n",
      "584/584 [==============================] - 0s 103us/sample - loss: 0.5079 - acc: 0.8175\n",
      "Epoch 13/20\n",
      "584/584 [==============================] - 0s 135us/sample - loss: 0.5065 - acc: 0.8149\n",
      "Epoch 14/20\n",
      "584/584 [==============================] - 0s 105us/sample - loss: 0.5052 - acc: 0.8162\n",
      "Epoch 15/20\n",
      "584/584 [==============================] - 0s 110us/sample - loss: 0.5043 - acc: 0.8162\n",
      "Epoch 16/20\n",
      "584/584 [==============================] - 0s 161us/sample - loss: 0.5034 - acc: 0.8175\n",
      "Epoch 17/20\n",
      "584/584 [==============================] - 0s 87us/sample - loss: 0.5027 - acc: 0.8149\n",
      "Epoch 18/20\n",
      "584/584 [==============================] - 0s 72us/sample - loss: 0.5021 - acc: 0.8175\n",
      "Epoch 19/20\n",
      "584/584 [==============================] - 0s 70us/sample - loss: 0.5016 - acc: 0.8162\n",
      "Epoch 20/20\n",
      "584/584 [==============================] - 0s 87us/sample - loss: 0.5011 - acc: 0.8175\n"
     ]
    },
    {
     "data": {
      "text/plain": [
       "<tensorflow.python.keras.callbacks.History at 0x27f529eef60>"
      ]
     },
     "execution_count": 140,
     "metadata": {},
     "output_type": "execute_result"
    }
   ],
   "source": [
    "model = keras.Sequential([\n",
    "    keras.layers.Dense(8, input_shape=(1,7),activation=\"sigmoid\"),\n",
    "    # keras.layers.LSTM(4,return_sequences=True),\n",
    "    keras.layers.Dense(8,activation=\"relu\"),\n",
    "    keras.layers.Dense(2,activation=\"softmax\"),\n",
    "    keras.layers.Softmax()\n",
    "])\n",
    "\n",
    "model.compile(optimizer=\"adam\", loss=\"sparse_categorical_crossentropy\", metrics=[\"accuracy\"])\n",
    "model.fit(x_train,y_train,epochs=20)"
   ]
  },
  {
   "cell_type": "code",
   "execution_count": 141,
   "metadata": {},
   "outputs": [
    {
     "name": "stdout",
     "output_type": "stream",
     "text": [
      "147/147 [==============================] - 1s 7ms/sample - loss: 0.5594 - acc: 0.7590\n"
     ]
    },
    {
     "data": {
      "text/plain": [
       "[0.5593675796677466, 0.75903076]"
      ]
     },
     "execution_count": 141,
     "metadata": {},
     "output_type": "execute_result"
    }
   ],
   "source": [
    "model.evaluate(x_test,y_test)"
   ]
  },
  {
   "cell_type": "code",
   "execution_count": 142,
   "metadata": {},
   "outputs": [
    {
     "data": {
      "text/html": [
       "<div>\n",
       "<style scoped>\n",
       "    .dataframe tbody tr th:only-of-type {\n",
       "        vertical-align: middle;\n",
       "    }\n",
       "\n",
       "    .dataframe tbody tr th {\n",
       "        vertical-align: top;\n",
       "    }\n",
       "\n",
       "    .dataframe thead th {\n",
       "        text-align: right;\n",
       "    }\n",
       "</style>\n",
       "<table border=\"1\" class=\"dataframe\">\n",
       "  <thead>\n",
       "    <tr style=\"text-align: right;\">\n",
       "      <th></th>\n",
       "      <th>index</th>\n",
       "      <th>Open</th>\n",
       "      <th>High</th>\n",
       "      <th>Low</th>\n",
       "      <th>Close</th>\n",
       "      <th>EMA_20</th>\n",
       "      <th>EMA_50</th>\n",
       "      <th>EMA_200</th>\n",
       "      <th>Open Time</th>\n",
       "      <th>Buy</th>\n",
       "      <th>Sell</th>\n",
       "      <th>Returns</th>\n",
       "      <th>End</th>\n",
       "      <th>Gap</th>\n",
       "    </tr>\n",
       "  </thead>\n",
       "  <tbody>\n",
       "    <tr>\n",
       "      <th>104</th>\n",
       "      <td>8430</td>\n",
       "      <td>0.859340</td>\n",
       "      <td>0.864620</td>\n",
       "      <td>0.858823</td>\n",
       "      <td>0.865021</td>\n",
       "      <td>0.851875</td>\n",
       "      <td>0.850838</td>\n",
       "      <td>0.848465</td>\n",
       "      <td>2022-03-30 17:45:00</td>\n",
       "      <td>1</td>\n",
       "      <td>0</td>\n",
       "      <td>-1</td>\n",
       "      <td>2022-03-31 14:00:00</td>\n",
       "      <td>1196.0</td>\n",
       "    </tr>\n",
       "    <tr>\n",
       "      <th>106</th>\n",
       "      <td>8600</td>\n",
       "      <td>0.814858</td>\n",
       "      <td>0.819976</td>\n",
       "      <td>0.816009</td>\n",
       "      <td>0.819412</td>\n",
       "      <td>0.812435</td>\n",
       "      <td>0.811762</td>\n",
       "      <td>0.830672</td>\n",
       "      <td>2022-04-01 12:45:00</td>\n",
       "      <td>1</td>\n",
       "      <td>0</td>\n",
       "      <td>4</td>\n",
       "      <td>2022-04-01 15:16:00</td>\n",
       "      <td>1239.0</td>\n",
       "    </tr>\n",
       "    <tr>\n",
       "      <th>109</th>\n",
       "      <td>8857</td>\n",
       "      <td>0.888383</td>\n",
       "      <td>0.888806</td>\n",
       "      <td>0.890120</td>\n",
       "      <td>0.889501</td>\n",
       "      <td>0.889453</td>\n",
       "      <td>0.889196</td>\n",
       "      <td>0.885040</td>\n",
       "      <td>2022-04-04 05:45:00</td>\n",
       "      <td>1</td>\n",
       "      <td>0</td>\n",
       "      <td>-2</td>\n",
       "      <td>2022-04-04 15:03:00</td>\n",
       "      <td>882.0</td>\n",
       "    </tr>\n",
       "    <tr>\n",
       "      <th>111</th>\n",
       "      <td>9154</td>\n",
       "      <td>0.787625</td>\n",
       "      <td>0.788442</td>\n",
       "      <td>0.788690</td>\n",
       "      <td>0.789642</td>\n",
       "      <td>0.788940</td>\n",
       "      <td>0.788812</td>\n",
       "      <td>0.824621</td>\n",
       "      <td>2022-04-07 08:45:00</td>\n",
       "      <td>1</td>\n",
       "      <td>0</td>\n",
       "      <td>-1</td>\n",
       "      <td>2022-04-07 15:32:00</td>\n",
       "      <td>2558.0</td>\n",
       "    </tr>\n",
       "    <tr>\n",
       "      <th>114</th>\n",
       "      <td>9273</td>\n",
       "      <td>0.804200</td>\n",
       "      <td>0.816552</td>\n",
       "      <td>0.804634</td>\n",
       "      <td>0.813200</td>\n",
       "      <td>0.804760</td>\n",
       "      <td>0.804379</td>\n",
       "      <td>0.809691</td>\n",
       "      <td>2022-04-08 14:45:00</td>\n",
       "      <td>1</td>\n",
       "      <td>0</td>\n",
       "      <td>-1</td>\n",
       "      <td>2022-04-08 17:35:00</td>\n",
       "      <td>926.0</td>\n",
       "    </tr>\n",
       "    <tr>\n",
       "      <th>116</th>\n",
       "      <td>9451</td>\n",
       "      <td>0.796234</td>\n",
       "      <td>0.799672</td>\n",
       "      <td>0.798665</td>\n",
       "      <td>0.799324</td>\n",
       "      <td>0.799295</td>\n",
       "      <td>0.799102</td>\n",
       "      <td>0.800402</td>\n",
       "      <td>2022-04-10 11:45:00</td>\n",
       "      <td>1</td>\n",
       "      <td>0</td>\n",
       "      <td>-1</td>\n",
       "      <td>2022-04-11 00:09:00</td>\n",
       "      <td>2530.0</td>\n",
       "    </tr>\n",
       "    <tr>\n",
       "      <th>118</th>\n",
       "      <td>9626</td>\n",
       "      <td>0.718783</td>\n",
       "      <td>0.720729</td>\n",
       "      <td>0.718695</td>\n",
       "      <td>0.721084</td>\n",
       "      <td>0.716026</td>\n",
       "      <td>0.715564</td>\n",
       "      <td>0.748466</td>\n",
       "      <td>2022-04-12 08:00:00</td>\n",
       "      <td>1</td>\n",
       "      <td>0</td>\n",
       "      <td>-1</td>\n",
       "      <td>2022-04-12 19:59:00</td>\n",
       "      <td>1911.0</td>\n",
       "    </tr>\n",
       "    <tr>\n",
       "      <th>120</th>\n",
       "      <td>9696</td>\n",
       "      <td>0.718381</td>\n",
       "      <td>0.719531</td>\n",
       "      <td>0.718826</td>\n",
       "      <td>0.720712</td>\n",
       "      <td>0.719686</td>\n",
       "      <td>0.719339</td>\n",
       "      <td>0.734891</td>\n",
       "      <td>2022-04-13 01:45:00</td>\n",
       "      <td>1</td>\n",
       "      <td>0</td>\n",
       "      <td>3</td>\n",
       "      <td>2022-04-14 01:44:00</td>\n",
       "      <td>346.0</td>\n",
       "    </tr>\n",
       "    <tr>\n",
       "      <th>125</th>\n",
       "      <td>10106</td>\n",
       "      <td>0.726993</td>\n",
       "      <td>0.726159</td>\n",
       "      <td>0.728011</td>\n",
       "      <td>0.726437</td>\n",
       "      <td>0.727897</td>\n",
       "      <td>0.727754</td>\n",
       "      <td>0.728047</td>\n",
       "      <td>2022-04-17 09:15:00</td>\n",
       "      <td>1</td>\n",
       "      <td>0</td>\n",
       "      <td>-2</td>\n",
       "      <td>2022-04-17 23:41:00</td>\n",
       "      <td>665.0</td>\n",
       "    </tr>\n",
       "    <tr>\n",
       "      <th>126</th>\n",
       "      <td>10236</td>\n",
       "      <td>0.704467</td>\n",
       "      <td>0.707265</td>\n",
       "      <td>0.705308</td>\n",
       "      <td>0.704538</td>\n",
       "      <td>0.692796</td>\n",
       "      <td>0.691967</td>\n",
       "      <td>0.709142</td>\n",
       "      <td>2022-04-18 18:00:00</td>\n",
       "      <td>1</td>\n",
       "      <td>0</td>\n",
       "      <td>3</td>\n",
       "      <td>2022-04-19 14:00:00</td>\n",
       "      <td>1117.0</td>\n",
       "    </tr>\n",
       "  </tbody>\n",
       "</table>\n",
       "</div>"
      ],
      "text/plain": [
       "     index      Open      High       Low     Close    EMA_20    EMA_50  \\\n",
       "104   8430  0.859340  0.864620  0.858823  0.865021  0.851875  0.850838   \n",
       "106   8600  0.814858  0.819976  0.816009  0.819412  0.812435  0.811762   \n",
       "109   8857  0.888383  0.888806  0.890120  0.889501  0.889453  0.889196   \n",
       "111   9154  0.787625  0.788442  0.788690  0.789642  0.788940  0.788812   \n",
       "114   9273  0.804200  0.816552  0.804634  0.813200  0.804760  0.804379   \n",
       "116   9451  0.796234  0.799672  0.798665  0.799324  0.799295  0.799102   \n",
       "118   9626  0.718783  0.720729  0.718695  0.721084  0.716026  0.715564   \n",
       "120   9696  0.718381  0.719531  0.718826  0.720712  0.719686  0.719339   \n",
       "125  10106  0.726993  0.726159  0.728011  0.726437  0.727897  0.727754   \n",
       "126  10236  0.704467  0.707265  0.705308  0.704538  0.692796  0.691967   \n",
       "\n",
       "      EMA_200           Open Time  Buy  Sell  Returns                  End  \\\n",
       "104  0.848465 2022-03-30 17:45:00    1     0       -1  2022-03-31 14:00:00   \n",
       "106  0.830672 2022-04-01 12:45:00    1     0        4  2022-04-01 15:16:00   \n",
       "109  0.885040 2022-04-04 05:45:00    1     0       -2  2022-04-04 15:03:00   \n",
       "111  0.824621 2022-04-07 08:45:00    1     0       -1  2022-04-07 15:32:00   \n",
       "114  0.809691 2022-04-08 14:45:00    1     0       -1  2022-04-08 17:35:00   \n",
       "116  0.800402 2022-04-10 11:45:00    1     0       -1  2022-04-11 00:09:00   \n",
       "118  0.748466 2022-04-12 08:00:00    1     0       -1  2022-04-12 19:59:00   \n",
       "120  0.734891 2022-04-13 01:45:00    1     0        3  2022-04-14 01:44:00   \n",
       "125  0.728047 2022-04-17 09:15:00    1     0       -2  2022-04-17 23:41:00   \n",
       "126  0.709142 2022-04-18 18:00:00    1     0        3  2022-04-19 14:00:00   \n",
       "\n",
       "        Gap  \n",
       "104  1196.0  \n",
       "106  1239.0  \n",
       "109   882.0  \n",
       "111  2558.0  \n",
       "114   926.0  \n",
       "116  2530.0  \n",
       "118  1911.0  \n",
       "120   346.0  \n",
       "125   665.0  \n",
       "126  1117.0  "
      ]
     },
     "execution_count": 142,
     "metadata": {},
     "output_type": "execute_result"
    }
   ],
   "source": [
    "df[50:60]"
   ]
  },
  {
   "cell_type": "code",
   "execution_count": 143,
   "metadata": {},
   "outputs": [],
   "source": [
    "test_x = df[50:60][[\"EMA_20\",\"EMA_50\",\"EMA_200\",\"Open\",\"High\",\"Low\",\"Close\"]]\n",
    "test_x = reshape(np.array(test_x))"
   ]
  },
  {
   "cell_type": "code",
   "execution_count": 144,
   "metadata": {},
   "outputs": [
    {
     "data": {
      "text/plain": [
       "array([[[0.72666633, 0.27333364]],\n",
       "\n",
       "       [[0.72651565, 0.27348438]],\n",
       "\n",
       "       [[0.7267697 , 0.27323034]],\n",
       "\n",
       "       [[0.72641486, 0.27358514]],\n",
       "\n",
       "       [[0.72648126, 0.2735187 ]],\n",
       "\n",
       "       [[0.7264269 , 0.2735731 ]],\n",
       "\n",
       "       [[0.7260848 , 0.2739152 ]],\n",
       "\n",
       "       [[0.7260719 , 0.2739281 ]],\n",
       "\n",
       "       [[0.7260891 , 0.27391085]],\n",
       "\n",
       "       [[0.7259681 , 0.27403188]]], dtype=float32)"
      ]
     },
     "execution_count": 144,
     "metadata": {},
     "output_type": "execute_result"
    }
   ],
   "source": [
    "model.predict(test_x)"
   ]
  },
  {
   "cell_type": "code",
   "execution_count": null,
   "metadata": {},
   "outputs": [],
   "source": []
  }
 ],
 "metadata": {
  "kernelspec": {
   "display_name": "Python 3",
   "language": "python",
   "name": "python3"
  },
  "language_info": {
   "codemirror_mode": {
    "name": "ipython",
    "version": 3
   },
   "file_extension": ".py",
   "mimetype": "text/x-python",
   "name": "python",
   "nbconvert_exporter": "python",
   "pygments_lexer": "ipython3",
   "version": "3.7.0 (v3.7.0:1bf9cc5093, Jun 27 2018, 04:59:51) [MSC v.1914 64 bit (AMD64)]"
  },
  "orig_nbformat": 4,
  "vscode": {
   "interpreter": {
    "hash": "47b6649d89d45d82a2a83f82e518c08ecd52f301339961f4416eb8c43aea9152"
   }
  }
 },
 "nbformat": 4,
 "nbformat_minor": 2
}
