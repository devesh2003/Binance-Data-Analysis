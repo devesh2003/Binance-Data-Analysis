{
 "cells": [
  {
   "cell_type": "code",
   "execution_count": 2,
   "id": "e3940023",
   "metadata": {},
   "outputs": [],
   "source": [
    "import pandas as pd\n",
    "import numpy as np \n",
    "import matplotlib.pyplot as plt\n",
    "from BinanceCollector import BinanceCollector\n",
    "import talib"
   ]
  },
  {
   "cell_type": "code",
   "execution_count": 4,
   "id": "ea9d8a02",
   "metadata": {},
   "outputs": [],
   "source": [
    "collector = BinanceCollector(\"ETHUSDT\",\"2021-06-01\",\"2022-12-19\",\"15m\")\n",
    "collector.start_collect()\n",
    "collector.df.columns = [\"Open Time\",\"Open\",\"High\",\"Low\",\"Close\",\"Volume\",\"Close Time\",\n",
    "             \"Quote asset volumne\",\"Total Trades\",\"Buyer Base Volume\",\n",
    "             \"Taker buy quote asset volume\",\"Ignore\"]\n",
    "data = collector.df"
   ]
  },
  {
   "cell_type": "code",
   "execution_count": 5,
   "id": "486f54f9",
   "metadata": {},
   "outputs": [],
   "source": [
    "data[\"Return\"] = (data[\"Close\"] - data[\"Open\"])*100/data[\"Open\"]\n",
    "data[\"Open Time\"] = pd.to_datetime(data[\"Open Time\"],unit=\"ms\")\n",
    "# Calculate the RSI\n",
    "data[\"RSI\"] = talib.RSI(data[\"Close\"], timeperiod=14)\n",
    "\n",
    "# Calculate MA\n",
    "data[\"SMA_50\"] = data[\"Close\"].rolling(window=50).mean()\n",
    "data[\"SMA_200\"] = data[\"Close\"].rolling(window=200).mean()\n",
    "\n",
    "# Calculate the MACD\n",
    "data[\"MACD\"], data[\"MACD_Signal\"], data[\"MACD_Hist\"] = talib.MACD(data[\"Close\"], fastperiod=12, slowperiod=26, signalperiod=9)\n",
    "\n",
    "# Initialize the signals\n",
    "data[\"Signal_RSI\"] = np.where((data[\"RSI\"] > 70) | (data[\"RSI\"] < 30), 1, 0)\n",
    "data[\"Signal_MA\"] = np.where((data[\"SMA_50\"] > data[\"SMA_200\"]) & (data[\"SMA_50\"].rolling(5).mean() <= data[\"SMA_200\"].rolling(5).mean()), 1, 0)\n",
    "data[\"Signal_MACD\"] = np.where( (data[\"MACD\"] > data[\"MACD_Signal\"]) & (data[\"MACD\"].shift(1) <= data[\"MACD_Signal\"] ),1,0 )\n",
    "\n",
    "# Shift the signals one day forward\n",
    "data[\"Signal_RSI\"] = data[\"Signal_RSI\"].shift(1)\n",
    "data[\"Signal_MA\"] = data[\"Signal_RSI\"].shift(1)\n",
    "data[\"Signal_MACD\"] = data[\"Signal_MACD\"].shift(1)"
   ]
  },
  {
   "cell_type": "code",
   "execution_count": 6,
   "id": "8d0f4f3f",
   "metadata": {},
   "outputs": [
    {
     "name": "stdout",
     "output_type": "stream",
     "text": [
      "Returns: -11578\n"
     ]
    }
   ],
   "source": [
    "day = 0\n",
    "leverage = 2\n",
    "liquidation_factor = 100/leverage\n",
    "returns = 0\n",
    "for tmp in np.where( data[\"Signal_MA\"] == 1 )[0]:\n",
    "    target_price = data[\"Close\"][tmp] * (1 + (1/leverage)/100)\n",
    "    liquidation_price = data[\"Close\"][tmp] * (1 - (liquidation_factor)/100)\n",
    "    cur = tmp\n",
    "    while cur < len(data):\n",
    "        if data[\"Close\"][cur] >= target_price:\n",
    "            returns += 1\n",
    "            break\n",
    "        elif data[\"Close\"][cur] <= liquidation_price:\n",
    "#             print(f\"Target: {target_price}\\nLiquidation: {liquidation_price}\")\n",
    "            returns -= 100\n",
    "            break\n",
    "        cur += 1\n",
    "        \n",
    "print(f\"Returns: {returns}\")"
   ]
  },
  {
   "cell_type": "code",
   "execution_count": null,
   "id": "332baa8e",
   "metadata": {},
   "outputs": [],
   "source": []
  },
  {
   "cell_type": "code",
   "execution_count": null,
   "id": "b56f9809",
   "metadata": {},
   "outputs": [],
   "source": []
  }
 ],
 "metadata": {
  "kernelspec": {
   "display_name": "Python 3",
   "language": "python",
   "name": "python3"
  },
  "language_info": {
   "codemirror_mode": {
    "name": "ipython",
    "version": 3
   },
   "file_extension": ".py",
   "mimetype": "text/x-python",
   "name": "python",
   "nbconvert_exporter": "python",
   "pygments_lexer": "ipython3",
   "version": "3.7.0"
  },
  "vscode": {
   "interpreter": {
    "hash": "47b6649d89d45d82a2a83f82e518c08ecd52f301339961f4416eb8c43aea9152"
   }
  }
 },
 "nbformat": 4,
 "nbformat_minor": 5
}
