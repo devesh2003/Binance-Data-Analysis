{
 "cells": [
  {
   "cell_type": "code",
   "execution_count": 1,
   "id": "14fb5c83",
   "metadata": {},
   "outputs": [],
   "source": [
    "import pandas as pd\n",
    "import numpy as np\n",
    "import matplotlib.pyplot as plt\n",
    "from sklearn import cluster\n",
    "import requests\n",
    "from BinanceCollector import BinanceCollector\n",
    "from datetime import datetime"
   ]
  },
  {
   "cell_type": "code",
   "execution_count": 2,
   "id": "3f89a674",
   "metadata": {},
   "outputs": [],
   "source": [
    "df = pd.read_csv(\"./Data/Trades/BNBUSDT-trades-2022-12-19.csv\")"
   ]
  },
  {
   "cell_type": "code",
   "execution_count": 3,
   "id": "5f7640f6",
   "metadata": {},
   "outputs": [],
   "source": [
    "df[\"order_value\"] = df[\"qty\"]*df[\"price\"]\n",
    "\n",
    "# for index,rows in df.iterrows():\n",
    "#     df[\"clean_time\"] = datetime.fromtimestamp(rows[\"time\"]/1000.0).strftime(\"%H:%M:%S\")\n",
    "df[\"clean_time\"] = pd.to_datetime(df[\"time\"],unit=\"ms\")"
   ]
  },
  {
   "cell_type": "code",
   "execution_count": 4,
   "id": "ed07908f",
   "metadata": {},
   "outputs": [
    {
     "data": {
      "text/html": [
       "<div>\n",
       "<style scoped>\n",
       "    .dataframe tbody tr th:only-of-type {\n",
       "        vertical-align: middle;\n",
       "    }\n",
       "\n",
       "    .dataframe tbody tr th {\n",
       "        vertical-align: top;\n",
       "    }\n",
       "\n",
       "    .dataframe thead th {\n",
       "        text-align: right;\n",
       "    }\n",
       "</style>\n",
       "<table border=\"1\" class=\"dataframe\">\n",
       "  <thead>\n",
       "    <tr style=\"text-align: right;\">\n",
       "      <th></th>\n",
       "      <th>id</th>\n",
       "      <th>price</th>\n",
       "      <th>qty</th>\n",
       "      <th>quote_qty</th>\n",
       "      <th>time</th>\n",
       "      <th>is_buyer_maker</th>\n",
       "      <th>order_value</th>\n",
       "      <th>clean_time</th>\n",
       "    </tr>\n",
       "  </thead>\n",
       "  <tbody>\n",
       "    <tr>\n",
       "      <th>1308137</th>\n",
       "      <td>884809527</td>\n",
       "      <td>240.23</td>\n",
       "      <td>0.04</td>\n",
       "      <td>9.609</td>\n",
       "      <td>1671494399573</td>\n",
       "      <td>True</td>\n",
       "      <td>9.6092</td>\n",
       "      <td>2022-12-19 23:59:59.573</td>\n",
       "    </tr>\n",
       "    <tr>\n",
       "      <th>1308138</th>\n",
       "      <td>884809528</td>\n",
       "      <td>240.23</td>\n",
       "      <td>2.68</td>\n",
       "      <td>643.816</td>\n",
       "      <td>1671494399583</td>\n",
       "      <td>True</td>\n",
       "      <td>643.8164</td>\n",
       "      <td>2022-12-19 23:59:59.583</td>\n",
       "    </tr>\n",
       "    <tr>\n",
       "      <th>1308139</th>\n",
       "      <td>884809529</td>\n",
       "      <td>240.24</td>\n",
       "      <td>0.04</td>\n",
       "      <td>9.609</td>\n",
       "      <td>1671494399907</td>\n",
       "      <td>False</td>\n",
       "      <td>9.6096</td>\n",
       "      <td>2022-12-19 23:59:59.907</td>\n",
       "    </tr>\n",
       "    <tr>\n",
       "      <th>1308140</th>\n",
       "      <td>884809530</td>\n",
       "      <td>240.24</td>\n",
       "      <td>0.29</td>\n",
       "      <td>69.669</td>\n",
       "      <td>1671494399907</td>\n",
       "      <td>False</td>\n",
       "      <td>69.6696</td>\n",
       "      <td>2022-12-19 23:59:59.907</td>\n",
       "    </tr>\n",
       "    <tr>\n",
       "      <th>1308141</th>\n",
       "      <td>884809531</td>\n",
       "      <td>240.23</td>\n",
       "      <td>0.14</td>\n",
       "      <td>33.632</td>\n",
       "      <td>1671494399921</td>\n",
       "      <td>True</td>\n",
       "      <td>33.6322</td>\n",
       "      <td>2022-12-19 23:59:59.921</td>\n",
       "    </tr>\n",
       "  </tbody>\n",
       "</table>\n",
       "</div>"
      ],
      "text/plain": [
       "                id   price   qty  quote_qty           time  is_buyer_maker  \\\n",
       "1308137  884809527  240.23  0.04      9.609  1671494399573            True   \n",
       "1308138  884809528  240.23  2.68    643.816  1671494399583            True   \n",
       "1308139  884809529  240.24  0.04      9.609  1671494399907           False   \n",
       "1308140  884809530  240.24  0.29     69.669  1671494399907           False   \n",
       "1308141  884809531  240.23  0.14     33.632  1671494399921            True   \n",
       "\n",
       "         order_value              clean_time  \n",
       "1308137       9.6092 2022-12-19 23:59:59.573  \n",
       "1308138     643.8164 2022-12-19 23:59:59.583  \n",
       "1308139       9.6096 2022-12-19 23:59:59.907  \n",
       "1308140      69.6696 2022-12-19 23:59:59.907  \n",
       "1308141      33.6322 2022-12-19 23:59:59.921  "
      ]
     },
     "execution_count": 4,
     "metadata": {},
     "output_type": "execute_result"
    }
   ],
   "source": [
    "# false -> BUY\n",
    "# true -> SELL\n",
    "df.tail()"
   ]
  },
  {
   "cell_type": "code",
   "execution_count": 7,
   "id": "2e37413b",
   "metadata": {},
   "outputs": [
    {
     "data": {
      "text/plain": [
       "539400745.99335"
      ]
     },
     "execution_count": 7,
     "metadata": {},
     "output_type": "execute_result"
    }
   ],
   "source": [
    "# SELL QTY\n",
    "sum(df[ df[\"is_buyer_maker\"] ][\"order_value\"])"
   ]
  },
  {
   "cell_type": "code",
   "execution_count": 20,
   "id": "132f8409",
   "metadata": {},
   "outputs": [
    {
     "data": {
      "text/plain": [
       "537251321.9904689"
      ]
     },
     "execution_count": 20,
     "metadata": {},
     "output_type": "execute_result"
    }
   ],
   "source": [
    "# BUY QTY\n",
    "sum(df[ ~df[\"is_buyer_maker\"] ][\"order_value\"])"
   ]
  },
  {
   "cell_type": "code",
   "execution_count": 21,
   "id": "da160d4e",
   "metadata": {},
   "outputs": [],
   "source": [
    "buyers = df[ ~df[\"is_buyer_maker\"] ]\n",
    "sellers = df[ df[\"is_buyer_maker\"] ]"
   ]
  },
  {
   "cell_type": "code",
   "execution_count": 22,
   "id": "810af459",
   "metadata": {},
   "outputs": [
    {
     "data": {
      "text/plain": [
       "<matplotlib.collections.PathCollection at 0x1f3f0ed70b8>"
      ]
     },
     "execution_count": 22,
     "metadata": {},
     "output_type": "execute_result"
    },
    {
     "data": {
      "image/png": "[encoded data removed]",
      "text/plain": [
       "<Figure size 432x288 with 1 Axes>"
      ]
     },
     "metadata": {
      "needs_background": "light"
     },
     "output_type": "display_data"
    }
   ],
   "source": [
    "tmp = buyers[ buyers[\"qty\"] > 400 ]\n",
    "plt.scatter(tmp[\"time\"],tmp[\"order_value\"])"
   ]
  },
  {
   "cell_type": "code",
   "execution_count": 23,
   "id": "0acbf673",
   "metadata": {},
   "outputs": [
    {
     "data": {
      "text/plain": [
       "<matplotlib.collections.PathCollection at 0x1f3f13f7400>"
      ]
     },
     "execution_count": 23,
     "metadata": {},
     "output_type": "execute_result"
    },
    {
     "data": {
      "image/png": "[encoded data removed]",
      "text/plain": [
       "<Figure size 432x288 with 1 Axes>"
      ]
     },
     "metadata": {
      "needs_background": "light"
     },
     "output_type": "display_data"
    }
   ],
   "source": [
    "tmp = sellers[ sellers[\"qty\"] > 400 ]\n",
    "plt.scatter(tmp[\"time\"],tmp[\"order_value\"])"
   ]
  },
  {
   "cell_type": "code",
   "execution_count": 25,
   "id": "11e82aa4",
   "metadata": {},
   "outputs": [
    {
     "data": {
      "text/html": [
       "<div>\n",
       "<style scoped>\n",
       "    .dataframe tbody tr th:only-of-type {\n",
       "        vertical-align: middle;\n",
       "    }\n",
       "\n",
       "    .dataframe tbody tr th {\n",
       "        vertical-align: top;\n",
       "    }\n",
       "\n",
       "    .dataframe thead th {\n",
       "        text-align: right;\n",
       "    }\n",
       "</style>\n",
       "<table border=\"1\" class=\"dataframe\">\n",
       "  <thead>\n",
       "    <tr style=\"text-align: right;\">\n",
       "      <th></th>\n",
       "      <th>id</th>\n",
       "      <th>price</th>\n",
       "      <th>qty</th>\n",
       "      <th>quote_qty</th>\n",
       "      <th>time</th>\n",
       "      <th>is_buyer_maker</th>\n",
       "      <th>order_value</th>\n",
       "      <th>clean_time</th>\n",
       "    </tr>\n",
       "  </thead>\n",
       "  <tbody>\n",
       "    <tr>\n",
       "      <th>1</th>\n",
       "      <td>883501318</td>\n",
       "      <td>250.76</td>\n",
       "      <td>2.00</td>\n",
       "      <td>501.520</td>\n",
       "      <td>1671408000122</td>\n",
       "      <td>True</td>\n",
       "      <td>501.5200</td>\n",
       "      <td>2022-12-19 00:00:00.122</td>\n",
       "    </tr>\n",
       "    <tr>\n",
       "      <th>2</th>\n",
       "      <td>883501319</td>\n",
       "      <td>250.75</td>\n",
       "      <td>0.73</td>\n",
       "      <td>183.047</td>\n",
       "      <td>1671408000122</td>\n",
       "      <td>True</td>\n",
       "      <td>183.0475</td>\n",
       "      <td>2022-12-19 00:00:00.122</td>\n",
       "    </tr>\n",
       "    <tr>\n",
       "      <th>5</th>\n",
       "      <td>883501322</td>\n",
       "      <td>250.75</td>\n",
       "      <td>1.91</td>\n",
       "      <td>478.932</td>\n",
       "      <td>1671408002814</td>\n",
       "      <td>True</td>\n",
       "      <td>478.9325</td>\n",
       "      <td>2022-12-19 00:00:02.814</td>\n",
       "    </tr>\n",
       "    <tr>\n",
       "      <th>6</th>\n",
       "      <td>883501323</td>\n",
       "      <td>250.75</td>\n",
       "      <td>8.00</td>\n",
       "      <td>2006.000</td>\n",
       "      <td>1671408002814</td>\n",
       "      <td>True</td>\n",
       "      <td>2006.0000</td>\n",
       "      <td>2022-12-19 00:00:02.814</td>\n",
       "    </tr>\n",
       "    <tr>\n",
       "      <th>7</th>\n",
       "      <td>883501324</td>\n",
       "      <td>250.74</td>\n",
       "      <td>0.71</td>\n",
       "      <td>178.025</td>\n",
       "      <td>1671408002814</td>\n",
       "      <td>True</td>\n",
       "      <td>178.0254</td>\n",
       "      <td>2022-12-19 00:00:02.814</td>\n",
       "    </tr>\n",
       "  </tbody>\n",
       "</table>\n",
       "</div>"
      ],
      "text/plain": [
       "          id   price   qty  quote_qty           time  is_buyer_maker  \\\n",
       "1  883501318  250.76  2.00    501.520  1671408000122            True   \n",
       "2  883501319  250.75  0.73    183.047  1671408000122            True   \n",
       "5  883501322  250.75  1.91    478.932  1671408002814            True   \n",
       "6  883501323  250.75  8.00   2006.000  1671408002814            True   \n",
       "7  883501324  250.74  0.71    178.025  1671408002814            True   \n",
       "\n",
       "   order_value              clean_time  \n",
       "1     501.5200 2022-12-19 00:00:00.122  \n",
       "2     183.0475 2022-12-19 00:00:00.122  \n",
       "5     478.9325 2022-12-19 00:00:02.814  \n",
       "6    2006.0000 2022-12-19 00:00:02.814  \n",
       "7     178.0254 2022-12-19 00:00:02.814  "
      ]
     },
     "execution_count": 25,
     "metadata": {},
     "output_type": "execute_result"
    }
   ],
   "source": [
    "sellers.head()"
   ]
  },
  {
   "cell_type": "code",
   "execution_count": 28,
   "id": "7b8e6e6c",
   "metadata": {},
   "outputs": [
    {
     "data": {
      "text/html": [
       "<div>\n",
       "<style scoped>\n",
       "    .dataframe tbody tr th:only-of-type {\n",
       "        vertical-align: middle;\n",
       "    }\n",
       "\n",
       "    .dataframe tbody tr th {\n",
       "        vertical-align: top;\n",
       "    }\n",
       "\n",
       "    .dataframe thead th {\n",
       "        text-align: right;\n",
       "    }\n",
       "</style>\n",
       "<table border=\"1\" class=\"dataframe\">\n",
       "  <thead>\n",
       "    <tr style=\"text-align: right;\">\n",
       "      <th></th>\n",
       "      <th>id</th>\n",
       "      <th>price</th>\n",
       "      <th>qty</th>\n",
       "      <th>quote_qty</th>\n",
       "      <th>time</th>\n",
       "      <th>is_buyer_maker</th>\n",
       "      <th>order_value</th>\n",
       "      <th>clean_time</th>\n",
       "    </tr>\n",
       "  </thead>\n",
       "  <tbody>\n",
       "    <tr>\n",
       "      <th>0</th>\n",
       "      <td>883501317</td>\n",
       "      <td>250.77</td>\n",
       "      <td>0.02</td>\n",
       "      <td>5.015</td>\n",
       "      <td>1671408000108</td>\n",
       "      <td>False</td>\n",
       "      <td>5.0154</td>\n",
       "      <td>2022-12-19 00:00:00.108</td>\n",
       "    </tr>\n",
       "    <tr>\n",
       "      <th>3</th>\n",
       "      <td>883501320</td>\n",
       "      <td>250.76</td>\n",
       "      <td>0.19</td>\n",
       "      <td>47.644</td>\n",
       "      <td>1671408000134</td>\n",
       "      <td>False</td>\n",
       "      <td>47.6444</td>\n",
       "      <td>2022-12-19 00:00:00.134</td>\n",
       "    </tr>\n",
       "    <tr>\n",
       "      <th>4</th>\n",
       "      <td>883501321</td>\n",
       "      <td>250.76</td>\n",
       "      <td>0.85</td>\n",
       "      <td>213.146</td>\n",
       "      <td>1671408000134</td>\n",
       "      <td>False</td>\n",
       "      <td>213.1460</td>\n",
       "      <td>2022-12-19 00:00:00.134</td>\n",
       "    </tr>\n",
       "    <tr>\n",
       "      <th>12</th>\n",
       "      <td>883501329</td>\n",
       "      <td>250.76</td>\n",
       "      <td>0.39</td>\n",
       "      <td>97.796</td>\n",
       "      <td>1671408003898</td>\n",
       "      <td>False</td>\n",
       "      <td>97.7964</td>\n",
       "      <td>2022-12-19 00:00:03.898</td>\n",
       "    </tr>\n",
       "    <tr>\n",
       "      <th>13</th>\n",
       "      <td>883501330</td>\n",
       "      <td>250.76</td>\n",
       "      <td>3.98</td>\n",
       "      <td>998.024</td>\n",
       "      <td>1671408003921</td>\n",
       "      <td>False</td>\n",
       "      <td>998.0248</td>\n",
       "      <td>2022-12-19 00:00:03.921</td>\n",
       "    </tr>\n",
       "  </tbody>\n",
       "</table>\n",
       "</div>"
      ],
      "text/plain": [
       "           id   price   qty  quote_qty           time  is_buyer_maker  \\\n",
       "0   883501317  250.77  0.02      5.015  1671408000108           False   \n",
       "3   883501320  250.76  0.19     47.644  1671408000134           False   \n",
       "4   883501321  250.76  0.85    213.146  1671408000134           False   \n",
       "12  883501329  250.76  0.39     97.796  1671408003898           False   \n",
       "13  883501330  250.76  3.98    998.024  1671408003921           False   \n",
       "\n",
       "    order_value              clean_time  \n",
       "0        5.0154 2022-12-19 00:00:00.108  \n",
       "3       47.6444 2022-12-19 00:00:00.134  \n",
       "4      213.1460 2022-12-19 00:00:00.134  \n",
       "12      97.7964 2022-12-19 00:00:03.898  \n",
       "13     998.0248 2022-12-19 00:00:03.921  "
      ]
     },
     "execution_count": 28,
     "metadata": {},
     "output_type": "execute_result"
    }
   ],
   "source": [
    "buyers.head()"
   ]
  },
  {
   "cell_type": "code",
   "execution_count": 9,
   "id": "6f17c816",
   "metadata": {},
   "outputs": [
    {
     "data": {
      "text/plain": [
       "176252768.23625588"
      ]
     },
     "execution_count": 9,
     "metadata": {},
     "output_type": "execute_result"
    }
   ],
   "source": [
    "2149424.0028811693 * 82"
   ]
  },
  {
   "cell_type": "code",
   "execution_count": null,
   "id": "0049c881",
   "metadata": {},
   "outputs": [],
   "source": []
  }
 ],
 "metadata": {
  "kernelspec": {
   "display_name": "Python 3 (ipykernel)",
   "language": "python",
   "name": "python3"
  },
  "language_info": {
   "codemirror_mode": {
    "name": "ipython",
    "version": 3
   },
   "file_extension": ".py",
   "mimetype": "text/x-python",
   "name": "python",
   "nbconvert_exporter": "python",
   "pygments_lexer": "ipython3",
   "version": "3.7.0"
  },
  "vscode": {
   "interpreter": {
    "hash": "19a222a4543295861d35832f2c434d614dcda66a2cdc7675b131359df4e8ea90"
   }
  }
 },
 "nbformat": 4,
 "nbformat_minor": 5
}
