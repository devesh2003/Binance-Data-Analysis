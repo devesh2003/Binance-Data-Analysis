{
 "cells": [
  {
   "cell_type": "code",
   "execution_count": 1,
   "metadata": {},
   "outputs": [
    {
     "name": "stderr",
     "output_type": "stream",
     "text": [
      "c:\\Users\\deves\\AppData\\Local\\Programs\\Python\\Python37\\lib\\site-packages\\requests\\__init__.py:114: RequestsDependencyWarning: urllib3 (1.26.9) or chardet (5.0.0)/charset_normalizer (2.0.12) doesn't match a supported version!\n",
      "  RequestsDependencyWarning,\n"
     ]
    }
   ],
   "source": [
    "import pandas as pd\n",
    "import numpy as np\n",
    "from tensorflow import keras\n",
    "from BinanceCollector import BinanceCollector\n",
    "from sklearn.model_selection import train_test_split\n",
    "import warnings\n",
    "warnings.filterwarnings(\"ignore\")\n",
    "import matplotlib.pyplot as plt\n",
    "import datetime"
   ]
  },
  {
   "cell_type": "code",
   "execution_count": 74,
   "metadata": {},
   "outputs": [],
   "source": [
    "collector = BinanceCollector(\"ETHUSDT\",\"2022-01-01\",\"2022-12-31\",\"1m\")\n",
    "collector.start_collect()\n",
    "collector.df.columns = [\"Open Time\",\"Open\",\"High\",\"Low\",\"Close\",\"Volume\",\"Close Time\",\n",
    "             \"Quote asset volumne\",\"Total Trades\",\"Buyer Base Volume\",\n",
    "             \"Taker buy quote asset volume\",\"Ignore\"]\n",
    "df = collector.df\n",
    "df[\"Next\"] = df[\"Close\"].shift(-3)\n",
    "df.dropna(inplace=True)\n",
    "std = df.std()\n",
    "mean = df.mean()\n",
    "df=(df-df.mean())/df.std()"
   ]
  },
  {
   "cell_type": "code",
   "execution_count": 75,
   "metadata": {},
   "outputs": [
    {
     "data": {
      "text/html": [
       "<div>\n",
       "<style scoped>\n",
       "    .dataframe tbody tr th:only-of-type {\n",
       "        vertical-align: middle;\n",
       "    }\n",
       "\n",
       "    .dataframe tbody tr th {\n",
       "        vertical-align: top;\n",
       "    }\n",
       "\n",
       "    .dataframe thead th {\n",
       "        text-align: right;\n",
       "    }\n",
       "</style>\n",
       "<table border=\"1\" class=\"dataframe\">\n",
       "  <thead>\n",
       "    <tr style=\"text-align: right;\">\n",
       "      <th></th>\n",
       "      <th>Open Time</th>\n",
       "      <th>Open</th>\n",
       "      <th>High</th>\n",
       "      <th>Low</th>\n",
       "      <th>Close</th>\n",
       "      <th>Volume</th>\n",
       "      <th>Close Time</th>\n",
       "      <th>Quote asset volumne</th>\n",
       "      <th>Total Trades</th>\n",
       "      <th>Buyer Base Volume</th>\n",
       "      <th>Taker buy quote asset volume</th>\n",
       "      <th>Ignore</th>\n",
       "      <th>Next</th>\n",
       "    </tr>\n",
       "  </thead>\n",
       "  <tbody>\n",
       "    <tr>\n",
       "      <th>523788</th>\n",
       "      <td>1.732016</td>\n",
       "      <td>-1.022119</td>\n",
       "      <td>-1.022996</td>\n",
       "      <td>-1.021008</td>\n",
       "      <td>-1.021833</td>\n",
       "      <td>-0.519428</td>\n",
       "      <td>1.732016</td>\n",
       "      <td>-0.576243</td>\n",
       "      <td>-0.604023</td>\n",
       "      <td>-0.486156</td>\n",
       "      <td>-0.541561</td>\n",
       "      <td>NaN</td>\n",
       "      <td>-1.021967</td>\n",
       "    </tr>\n",
       "    <tr>\n",
       "      <th>523789</th>\n",
       "      <td>1.732023</td>\n",
       "      <td>-1.021835</td>\n",
       "      <td>-1.022996</td>\n",
       "      <td>-1.020725</td>\n",
       "      <td>-1.021833</td>\n",
       "      <td>-0.497588</td>\n",
       "      <td>1.732023</td>\n",
       "      <td>-0.560508</td>\n",
       "      <td>-0.651550</td>\n",
       "      <td>-0.525845</td>\n",
       "      <td>-0.570124</td>\n",
       "      <td>NaN</td>\n",
       "      <td>-1.021980</td>\n",
       "    </tr>\n",
       "    <tr>\n",
       "      <th>523790</th>\n",
       "      <td>1.732029</td>\n",
       "      <td>-1.021835</td>\n",
       "      <td>-1.022996</td>\n",
       "      <td>-1.020996</td>\n",
       "      <td>-1.021974</td>\n",
       "      <td>-0.507066</td>\n",
       "      <td>1.732029</td>\n",
       "      <td>-0.567340</td>\n",
       "      <td>-0.591515</td>\n",
       "      <td>-0.471628</td>\n",
       "      <td>-0.531108</td>\n",
       "      <td>NaN</td>\n",
       "      <td>-1.021143</td>\n",
       "    </tr>\n",
       "    <tr>\n",
       "      <th>523791</th>\n",
       "      <td>1.732036</td>\n",
       "      <td>-1.021964</td>\n",
       "      <td>-1.023125</td>\n",
       "      <td>-1.020854</td>\n",
       "      <td>-1.021974</td>\n",
       "      <td>-0.553458</td>\n",
       "      <td>1.732036</td>\n",
       "      <td>-0.600756</td>\n",
       "      <td>-0.676565</td>\n",
       "      <td>-0.521524</td>\n",
       "      <td>-0.567014</td>\n",
       "      <td>NaN</td>\n",
       "      <td>-1.020834</td>\n",
       "    </tr>\n",
       "    <tr>\n",
       "      <th>523792</th>\n",
       "      <td>1.732043</td>\n",
       "      <td>-1.021964</td>\n",
       "      <td>-1.022649</td>\n",
       "      <td>-1.021305</td>\n",
       "      <td>-1.021987</td>\n",
       "      <td>0.164834</td>\n",
       "      <td>1.732043</td>\n",
       "      <td>-0.083400</td>\n",
       "      <td>-0.412662</td>\n",
       "      <td>0.716331</td>\n",
       "      <td>0.323772</td>\n",
       "      <td>NaN</td>\n",
       "      <td>-1.020550</td>\n",
       "    </tr>\n",
       "  </tbody>\n",
       "</table>\n",
       "</div>"
      ],
      "text/plain": [
       "        Open Time      Open      High       Low     Close    Volume  \\\n",
       "523788   1.732016 -1.022119 -1.022996 -1.021008 -1.021833 -0.519428   \n",
       "523789   1.732023 -1.021835 -1.022996 -1.020725 -1.021833 -0.497588   \n",
       "523790   1.732029 -1.021835 -1.022996 -1.020996 -1.021974 -0.507066   \n",
       "523791   1.732036 -1.021964 -1.023125 -1.020854 -1.021974 -0.553458   \n",
       "523792   1.732043 -1.021964 -1.022649 -1.021305 -1.021987  0.164834   \n",
       "\n",
       "        Close Time  Quote asset volumne  Total Trades  Buyer Base Volume  \\\n",
       "523788    1.732016            -0.576243     -0.604023          -0.486156   \n",
       "523789    1.732023            -0.560508     -0.651550          -0.525845   \n",
       "523790    1.732029            -0.567340     -0.591515          -0.471628   \n",
       "523791    1.732036            -0.600756     -0.676565          -0.521524   \n",
       "523792    1.732043            -0.083400     -0.412662           0.716331   \n",
       "\n",
       "        Taker buy quote asset volume  Ignore      Next  \n",
       "523788                     -0.541561     NaN -1.021967  \n",
       "523789                     -0.570124     NaN -1.021980  \n",
       "523790                     -0.531108     NaN -1.021143  \n",
       "523791                     -0.567014     NaN -1.020834  \n",
       "523792                      0.323772     NaN -1.020550  "
      ]
     },
     "execution_count": 75,
     "metadata": {},
     "output_type": "execute_result"
    }
   ],
   "source": [
    "df.tail()"
   ]
  },
  {
   "cell_type": "code",
   "execution_count": null,
   "metadata": {},
   "outputs": [],
   "source": []
  },
  {
   "cell_type": "code",
   "execution_count": 76,
   "metadata": {},
   "outputs": [],
   "source": [
    "x = np.array(df[[\"Open\",\"High\",\"Low\",\"Close\",\"Volume\"]])\n",
    "y = np.array( df[\"Next\"] )"
   ]
  },
  {
   "cell_type": "code",
   "execution_count": 77,
   "metadata": {},
   "outputs": [],
   "source": [
    "x_train,x_test,y_train,y_test = train_test_split(x,y,test_size=0.25)\n",
    "x_train = np.reshape(x_train,(x_train.shape[0],1,x_train.shape[1]))\n",
    "x_test = np.reshape(x_test,(x_test.shape[0],1,x_test.shape[1]))"
   ]
  },
  {
   "cell_type": "code",
   "execution_count": 78,
   "metadata": {},
   "outputs": [],
   "source": [
    "model = keras.Sequential([\n",
    "    keras.layers.Dense(10,input_shape=(1,5),activation=\"relu\" ),\n",
    "    keras.layers.LSTM(8),\n",
    "    keras.layers.Dense(8, activation=\"relu\"),\n",
    "    keras.layers.Dense(1)\n",
    "])\n",
    "model.compile(optimizer=\"adam\",\n",
    "                loss=\"mape\",\n",
    "                metrics=[\"mse\"],\n",
    "                )\n",
    "\n",
    "log_dir = \"logs\\\\fit\\\\\" + \"Devesh-TEst\"\n",
    "tensorboard_callback = keras.callbacks.TensorBoard(log_dir=log_dir, histogram_freq=1)"
   ]
  },
  {
   "cell_type": "code",
   "execution_count": 79,
   "metadata": {},
   "outputs": [
    {
     "name": "stdout",
     "output_type": "stream",
     "text": [
      "Train on 392844 samples\n",
      "Epoch 1/5\n",
      "392844/392844 [==============================] - 79s 202us/sample - loss: 143.5196 - mean_squared_error: 0.0124\n",
      "Epoch 2/5\n",
      "392844/392844 [==============================] - 73s 186us/sample - loss: 29.1567 - mean_squared_error: 0.0015\n",
      "Epoch 3/5\n",
      "392844/392844 [==============================] - 68s 173us/sample - loss: 16.0206 - mean_squared_error: 8.8409e-04\n",
      "Epoch 4/5\n",
      "392844/392844 [==============================] - 72s 184us/sample - loss: 7.5046 - mean_squared_error: 4.8761e-04\n",
      "Epoch 5/5\n",
      "392844/392844 [==============================] - 24s 62us/sample - loss: 8.2435 - mean_squared_error: 7.0208e-04\n"
     ]
    },
    {
     "data": {
      "text/plain": [
       "<tensorflow.python.keras.callbacks.History at 0x1a08105ac18>"
      ]
     },
     "execution_count": 79,
     "metadata": {},
     "output_type": "execute_result"
    }
   ],
   "source": [
    "model.fit(x_train,y_train,epochs=5,callbacks=[tensorboard_callback])"
   ]
  },
  {
   "cell_type": "code",
   "execution_count": 80,
   "metadata": {},
   "outputs": [
    {
     "name": "stdout",
     "output_type": "stream",
     "text": [
      "130949/130949 [==============================] - 4s 28us/sample - loss: 44.1117 - mean_squared_error: 2.4199e-04\n"
     ]
    },
    {
     "data": {
      "text/plain": [
       "[44.11165746635198, 0.00024199164]"
      ]
     },
     "execution_count": 80,
     "metadata": {},
     "output_type": "execute_result"
    }
   ],
   "source": [
    "model.evaluate(x_test,y_test)"
   ]
  },
  {
   "cell_type": "code",
   "execution_count": 81,
   "metadata": {},
   "outputs": [],
   "source": [
    "x_pred = np.reshape( x,(x.shape[0],1,x.shape[1]) )"
   ]
  },
  {
   "cell_type": "code",
   "execution_count": 82,
   "metadata": {},
   "outputs": [],
   "source": [
    "y_pred = np.reshape(model.predict(x_pred),(y.shape[0]))\n",
    "df = df*std + mean"
   ]
  },
  {
   "cell_type": "code",
   "execution_count": 83,
   "metadata": {},
   "outputs": [],
   "source": [
    "df[\"Preds\"] = y_pred*std[\"Next\"] + mean[\"Next\"]"
   ]
  },
  {
   "cell_type": "code",
   "execution_count": 92,
   "metadata": {},
   "outputs": [
    {
     "data": {
      "text/plain": [
       "<AxesSubplot:>"
      ]
     },
     "execution_count": 92,
     "metadata": {},
     "output_type": "execute_result"
    },
    {
     "data": {
      "image/png": "[encoded data removed]",
      "text/plain": [
       "<Figure size 2160x360 with 1 Axes>"
      ]
     },
     "metadata": {
      "needs_background": "light"
     },
     "output_type": "display_data"
    }
   ],
   "source": [
    "df[[\"Next\",\"Preds\"]].plot(figsize=(15*2,5))"
   ]
  },
  {
   "cell_type": "code",
   "execution_count": 86,
   "metadata": {},
   "outputs": [
    {
     "data": {
      "text/html": [
       "<div>\n",
       "<style scoped>\n",
       "    .dataframe tbody tr th:only-of-type {\n",
       "        vertical-align: middle;\n",
       "    }\n",
       "\n",
       "    .dataframe tbody tr th {\n",
       "        vertical-align: top;\n",
       "    }\n",
       "\n",
       "    .dataframe thead th {\n",
       "        text-align: right;\n",
       "    }\n",
       "</style>\n",
       "<table border=\"1\" class=\"dataframe\">\n",
       "  <thead>\n",
       "    <tr style=\"text-align: right;\">\n",
       "      <th></th>\n",
       "      <th>Open Time</th>\n",
       "      <th>Open</th>\n",
       "      <th>High</th>\n",
       "      <th>Low</th>\n",
       "      <th>Close</th>\n",
       "      <th>Volume</th>\n",
       "      <th>Close Time</th>\n",
       "      <th>Quote asset volumne</th>\n",
       "      <th>Total Trades</th>\n",
       "      <th>Buyer Base Volume</th>\n",
       "      <th>Taker buy quote asset volume</th>\n",
       "      <th>Ignore</th>\n",
       "      <th>Next</th>\n",
       "      <th>Preds</th>\n",
       "      <th>Change</th>\n",
       "      <th>Change Pred</th>\n",
       "    </tr>\n",
       "  </thead>\n",
       "  <tbody>\n",
       "    <tr>\n",
       "      <th>0</th>\n",
       "      <td>2022-01-01 00:01:00</td>\n",
       "      <td>3684.85</td>\n",
       "      <td>3694.20</td>\n",
       "      <td>3681.33</td>\n",
       "      <td>3691.55</td>\n",
       "      <td>273.0180</td>\n",
       "      <td>2022-01-01 00:01:59.999</td>\n",
       "      <td>1.006818e+06</td>\n",
       "      <td>580.0</td>\n",
       "      <td>181.6745</td>\n",
       "      <td>670095.912422</td>\n",
       "      <td>NaN</td>\n",
       "      <td>3690.09</td>\n",
       "      <td>3698.564697</td>\n",
       "      <td>-0.039550</td>\n",
       "      <td>0.190020</td>\n",
       "    </tr>\n",
       "    <tr>\n",
       "      <th>1</th>\n",
       "      <td>2022-01-01 00:02:00</td>\n",
       "      <td>3692.50</td>\n",
       "      <td>3694.42</td>\n",
       "      <td>3687.49</td>\n",
       "      <td>3693.62</td>\n",
       "      <td>216.0824</td>\n",
       "      <td>2022-01-01 00:02:59.999</td>\n",
       "      <td>7.976563e+05</td>\n",
       "      <td>460.0</td>\n",
       "      <td>80.1555</td>\n",
       "      <td>295925.007905</td>\n",
       "      <td>NaN</td>\n",
       "      <td>3698.64</td>\n",
       "      <td>3699.272949</td>\n",
       "      <td>0.135910</td>\n",
       "      <td>0.153046</td>\n",
       "    </tr>\n",
       "    <tr>\n",
       "      <th>2</th>\n",
       "      <td>2022-01-01 00:03:00</td>\n",
       "      <td>3693.63</td>\n",
       "      <td>3695.41</td>\n",
       "      <td>3689.55</td>\n",
       "      <td>3690.58</td>\n",
       "      <td>250.2232</td>\n",
       "      <td>2022-01-01 00:03:59.999</td>\n",
       "      <td>9.237721e+05</td>\n",
       "      <td>448.0</td>\n",
       "      <td>109.0924</td>\n",
       "      <td>402765.079850</td>\n",
       "      <td>NaN</td>\n",
       "      <td>3705.14</td>\n",
       "      <td>3698.975586</td>\n",
       "      <td>0.394518</td>\n",
       "      <td>0.227487</td>\n",
       "    </tr>\n",
       "    <tr>\n",
       "      <th>3</th>\n",
       "      <td>2022-01-01 00:04:00</td>\n",
       "      <td>3690.57</td>\n",
       "      <td>3691.03</td>\n",
       "      <td>3688.00</td>\n",
       "      <td>3690.09</td>\n",
       "      <td>119.8314</td>\n",
       "      <td>2022-01-01 00:04:59.999</td>\n",
       "      <td>4.421674e+05</td>\n",
       "      <td>279.0</td>\n",
       "      <td>55.1763</td>\n",
       "      <td>203588.562778</td>\n",
       "      <td>NaN</td>\n",
       "      <td>3698.34</td>\n",
       "      <td>3696.365479</td>\n",
       "      <td>0.223572</td>\n",
       "      <td>0.170063</td>\n",
       "    </tr>\n",
       "    <tr>\n",
       "      <th>4</th>\n",
       "      <td>2022-01-01 00:05:00</td>\n",
       "      <td>3690.12</td>\n",
       "      <td>3698.96</td>\n",
       "      <td>3686.70</td>\n",
       "      <td>3698.64</td>\n",
       "      <td>242.3607</td>\n",
       "      <td>2022-01-01 00:05:59.999</td>\n",
       "      <td>8.950811e+05</td>\n",
       "      <td>564.0</td>\n",
       "      <td>134.0212</td>\n",
       "      <td>494979.783549</td>\n",
       "      <td>NaN</td>\n",
       "      <td>3696.46</td>\n",
       "      <td>3704.215820</td>\n",
       "      <td>-0.058941</td>\n",
       "      <td>0.150753</td>\n",
       "    </tr>\n",
       "    <tr>\n",
       "      <th>...</th>\n",
       "      <td>...</td>\n",
       "      <td>...</td>\n",
       "      <td>...</td>\n",
       "      <td>...</td>\n",
       "      <td>...</td>\n",
       "      <td>...</td>\n",
       "      <td>...</td>\n",
       "      <td>...</td>\n",
       "      <td>...</td>\n",
       "      <td>...</td>\n",
       "      <td>...</td>\n",
       "      <td>...</td>\n",
       "      <td>...</td>\n",
       "      <td>...</td>\n",
       "      <td>...</td>\n",
       "      <td>...</td>\n",
       "    </tr>\n",
       "    <tr>\n",
       "      <th>523788</th>\n",
       "      <td>2022-12-30 23:52:00</td>\n",
       "      <td>1198.78</td>\n",
       "      <td>1199.00</td>\n",
       "      <td>1198.77</td>\n",
       "      <td>1199.00</td>\n",
       "      <td>38.4236</td>\n",
       "      <td>2022-12-30 23:52:59.999</td>\n",
       "      <td>4.606728e+04</td>\n",
       "      <td>145.0</td>\n",
       "      <td>21.9620</td>\n",
       "      <td>26330.130320</td>\n",
       "      <td>NaN</td>\n",
       "      <td>1198.89</td>\n",
       "      <td>1197.997681</td>\n",
       "      <td>-0.009174</td>\n",
       "      <td>-0.083596</td>\n",
       "    </tr>\n",
       "    <tr>\n",
       "      <th>523789</th>\n",
       "      <td>2022-12-30 23:53:00</td>\n",
       "      <td>1199.00</td>\n",
       "      <td>1199.00</td>\n",
       "      <td>1198.99</td>\n",
       "      <td>1199.00</td>\n",
       "      <td>57.5084</td>\n",
       "      <td>2022-12-30 23:53:59.999</td>\n",
       "      <td>6.895203e+04</td>\n",
       "      <td>107.0</td>\n",
       "      <td>3.6695</td>\n",
       "      <td>4399.730500</td>\n",
       "      <td>NaN</td>\n",
       "      <td>1198.88</td>\n",
       "      <td>1198.126221</td>\n",
       "      <td>-0.010008</td>\n",
       "      <td>-0.072876</td>\n",
       "    </tr>\n",
       "    <tr>\n",
       "      <th>523790</th>\n",
       "      <td>2022-12-30 23:54:00</td>\n",
       "      <td>1199.00</td>\n",
       "      <td>1199.00</td>\n",
       "      <td>1198.78</td>\n",
       "      <td>1198.89</td>\n",
       "      <td>49.2261</td>\n",
       "      <td>2022-12-30 23:54:59.999</td>\n",
       "      <td>5.901643e+04</td>\n",
       "      <td>155.0</td>\n",
       "      <td>28.6573</td>\n",
       "      <td>34355.759846</td>\n",
       "      <td>NaN</td>\n",
       "      <td>1199.53</td>\n",
       "      <td>1198.037354</td>\n",
       "      <td>0.053383</td>\n",
       "      <td>-0.071120</td>\n",
       "    </tr>\n",
       "    <tr>\n",
       "      <th>523791</th>\n",
       "      <td>2022-12-30 23:55:00</td>\n",
       "      <td>1198.90</td>\n",
       "      <td>1198.90</td>\n",
       "      <td>1198.89</td>\n",
       "      <td>1198.89</td>\n",
       "      <td>8.6869</td>\n",
       "      <td>2022-12-30 23:55:59.999</td>\n",
       "      <td>1.041469e+04</td>\n",
       "      <td>87.0</td>\n",
       "      <td>5.6612</td>\n",
       "      <td>6787.212680</td>\n",
       "      <td>NaN</td>\n",
       "      <td>1199.77</td>\n",
       "      <td>1197.904297</td>\n",
       "      <td>0.073401</td>\n",
       "      <td>-0.082218</td>\n",
       "    </tr>\n",
       "    <tr>\n",
       "      <th>523792</th>\n",
       "      <td>2022-12-30 23:56:00</td>\n",
       "      <td>1198.90</td>\n",
       "      <td>1199.27</td>\n",
       "      <td>1198.54</td>\n",
       "      <td>1198.88</td>\n",
       "      <td>636.3636</td>\n",
       "      <td>2022-12-30 23:56:59.999</td>\n",
       "      <td>7.628760e+05</td>\n",
       "      <td>298.0</td>\n",
       "      <td>576.1697</td>\n",
       "      <td>690719.814277</td>\n",
       "      <td>NaN</td>\n",
       "      <td>1199.99</td>\n",
       "      <td>1199.572144</td>\n",
       "      <td>0.092586</td>\n",
       "      <td>0.057733</td>\n",
       "    </tr>\n",
       "  </tbody>\n",
       "</table>\n",
       "<p>523793 rows × 16 columns</p>\n",
       "</div>"
      ],
      "text/plain": [
       "                 Open Time     Open     High      Low    Close    Volume  \\\n",
       "0      2022-01-01 00:01:00  3684.85  3694.20  3681.33  3691.55  273.0180   \n",
       "1      2022-01-01 00:02:00  3692.50  3694.42  3687.49  3693.62  216.0824   \n",
       "2      2022-01-01 00:03:00  3693.63  3695.41  3689.55  3690.58  250.2232   \n",
       "3      2022-01-01 00:04:00  3690.57  3691.03  3688.00  3690.09  119.8314   \n",
       "4      2022-01-01 00:05:00  3690.12  3698.96  3686.70  3698.64  242.3607   \n",
       "...                    ...      ...      ...      ...      ...       ...   \n",
       "523788 2022-12-30 23:52:00  1198.78  1199.00  1198.77  1199.00   38.4236   \n",
       "523789 2022-12-30 23:53:00  1199.00  1199.00  1198.99  1199.00   57.5084   \n",
       "523790 2022-12-30 23:54:00  1199.00  1199.00  1198.78  1198.89   49.2261   \n",
       "523791 2022-12-30 23:55:00  1198.90  1198.90  1198.89  1198.89    8.6869   \n",
       "523792 2022-12-30 23:56:00  1198.90  1199.27  1198.54  1198.88  636.3636   \n",
       "\n",
       "                    Close Time  Quote asset volumne  Total Trades  \\\n",
       "0      2022-01-01 00:01:59.999         1.006818e+06         580.0   \n",
       "1      2022-01-01 00:02:59.999         7.976563e+05         460.0   \n",
       "2      2022-01-01 00:03:59.999         9.237721e+05         448.0   \n",
       "3      2022-01-01 00:04:59.999         4.421674e+05         279.0   \n",
       "4      2022-01-01 00:05:59.999         8.950811e+05         564.0   \n",
       "...                        ...                  ...           ...   \n",
       "523788 2022-12-30 23:52:59.999         4.606728e+04         145.0   \n",
       "523789 2022-12-30 23:53:59.999         6.895203e+04         107.0   \n",
       "523790 2022-12-30 23:54:59.999         5.901643e+04         155.0   \n",
       "523791 2022-12-30 23:55:59.999         1.041469e+04          87.0   \n",
       "523792 2022-12-30 23:56:59.999         7.628760e+05         298.0   \n",
       "\n",
       "        Buyer Base Volume  Taker buy quote asset volume  Ignore     Next  \\\n",
       "0                181.6745                 670095.912422     NaN  3690.09   \n",
       "1                 80.1555                 295925.007905     NaN  3698.64   \n",
       "2                109.0924                 402765.079850     NaN  3705.14   \n",
       "3                 55.1763                 203588.562778     NaN  3698.34   \n",
       "4                134.0212                 494979.783549     NaN  3696.46   \n",
       "...                   ...                           ...     ...      ...   \n",
       "523788            21.9620                  26330.130320     NaN  1198.89   \n",
       "523789             3.6695                   4399.730500     NaN  1198.88   \n",
       "523790            28.6573                  34355.759846     NaN  1199.53   \n",
       "523791             5.6612                   6787.212680     NaN  1199.77   \n",
       "523792           576.1697                 690719.814277     NaN  1199.99   \n",
       "\n",
       "              Preds    Change  Change Pred  \n",
       "0       3698.564697 -0.039550     0.190020  \n",
       "1       3699.272949  0.135910     0.153046  \n",
       "2       3698.975586  0.394518     0.227487  \n",
       "3       3696.365479  0.223572     0.170063  \n",
       "4       3704.215820 -0.058941     0.150753  \n",
       "...             ...       ...          ...  \n",
       "523788  1197.997681 -0.009174    -0.083596  \n",
       "523789  1198.126221 -0.010008    -0.072876  \n",
       "523790  1198.037354  0.053383    -0.071120  \n",
       "523791  1197.904297  0.073401    -0.082218  \n",
       "523792  1199.572144  0.092586     0.057733  \n",
       "\n",
       "[523793 rows x 16 columns]"
      ]
     },
     "execution_count": 86,
     "metadata": {},
     "output_type": "execute_result"
    }
   ],
   "source": [
    "# df = (df*std) + mean\n",
    "df[\"Change\"] = (df[\"Next\"]-df[\"Close\"])*100/df[\"Close\"]\n",
    "df[\"Change Pred\"] = (df[\"Preds\"]-df[\"Close\"])*100/df[\"Close\"]\n",
    "df[\"Open Time\"] = pd.to_datetime(df[\"Open Time\"],unit=\"ms\")\n",
    "df[\"Close Time\"] = pd.to_datetime(df[\"Close Time\"],unit=\"ms\")\n",
    "df"
   ]
  },
  {
   "cell_type": "code",
   "execution_count": 88,
   "metadata": {},
   "outputs": [],
   "source": [
    "# df[[\"Open\",\"High\",\"Low\",\"Close\",\"Volume\"]]\n",
    "x = np.array([[1,2,3,4,5]])\n",
    "x = np.reshape(x,(1,1,5))"
   ]
  },
  {
   "cell_type": "code",
   "execution_count": 89,
   "metadata": {},
   "outputs": [
    {
     "data": {
      "text/plain": [
       "array([[3.1975467]], dtype=float32)"
      ]
     },
     "execution_count": 89,
     "metadata": {},
     "output_type": "execute_result"
    }
   ],
   "source": [
    "model.predict(x)"
   ]
  },
  {
   "cell_type": "code",
   "execution_count": 93,
   "metadata": {},
   "outputs": [
    {
     "data": {
      "text/plain": [
       "0.5009230745733525"
      ]
     },
     "execution_count": 93,
     "metadata": {},
     "output_type": "execute_result"
    }
   ],
   "source": [
    "len(df[ df[\"Change\"]*df[\"Change Pred\"] >= 0 ]) / len(df)"
   ]
  },
  {
   "cell_type": "code",
   "execution_count": null,
   "metadata": {},
   "outputs": [],
   "source": []
  }
 ],
 "metadata": {
  "kernelspec": {
   "display_name": "Python 3",
   "language": "python",
   "name": "python3"
  },
  "language_info": {
   "codemirror_mode": {
    "name": "ipython",
    "version": 3
   },
   "file_extension": ".py",
   "mimetype": "text/x-python",
   "name": "python",
   "nbconvert_exporter": "python",
   "pygments_lexer": "ipython3",
   "version": "3.7.0 (v3.7.0:1bf9cc5093, Jun 27 2018, 04:59:51) [MSC v.1914 64 bit (AMD64)]"
  },
  "orig_nbformat": 4,
  "vscode": {
   "interpreter": {
    "hash": "47b6649d89d45d82a2a83f82e518c08ecd52f301339961f4416eb8c43aea9152"
   }
  }
 },
 "nbformat": 4,
 "nbformat_minor": 2
}
