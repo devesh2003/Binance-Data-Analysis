{
 "cells": [
  {
   "cell_type": "code",
   "execution_count": 1,
   "metadata": {},
   "outputs": [
    {
     "name": "stderr",
     "output_type": "stream",
     "text": [
      "c:\\Users\\deves\\AppData\\Local\\Programs\\Python\\Python37\\lib\\site-packages\\requests\\__init__.py:114: RequestsDependencyWarning: urllib3 (1.26.9) or chardet (5.0.0)/charset_normalizer (2.0.12) doesn't match a supported version!\n",
      "  RequestsDependencyWarning,\n"
     ]
    }
   ],
   "source": [
    "import pandas as pd\n",
    "import numpy as np\n",
    "from BinanceCollector import BinanceCollector\n",
    "from TradeBook import TradeBook\n",
    "import warnings\n",
    "warnings.filterwarnings(\"ignore\")\n",
    "from BreakdownCalculator import BreakdownCalculator\n",
    "from BinanceSync import BinanceSync\n",
    "from HyperBacktest import HyperBacktest\n",
    "import matplotlib.pyplot as plt\n",
    "from datetime import datetime,timedelta\n",
    "from SlackCron import SlackCron"
   ]
  },
  {
   "cell_type": "code",
   "execution_count": 2,
   "metadata": {},
   "outputs": [],
   "source": [
    "start = (datetime.now() - timedelta(days=60)).strftime(\"%Y-%m-%d\")\n",
    "end = (datetime.now()-timedelta(days=1)).strftime(\"%Y-%m-%d\")\n",
    "symbol = \"ETHUSDT\"\n",
    "interval = \"15m\""
   ]
  },
  {
   "cell_type": "code",
   "execution_count": 3,
   "metadata": {},
   "outputs": [],
   "source": [
    "collector = BinanceCollector(symbol,start,end,interval)\n",
    "collector.start_collect()\n",
    "collector.df.columns = [\"Open Time\",\"Open\",\"High\",\"Low\",\"Close\",\"Volume\",\"Close Time\",\n",
    "             \"Quote asset volumne\",\"Total Trades\",\"Buyer Base Volume\",\n",
    "             \"Taker buy quote asset volume\",\"Ignore\"]\n",
    "df = collector.df\n",
    "df[\"Open Time\"] = pd.to_datetime(df[\"Open Time\"],unit=\"ms\")\n",
    "df[\"Close Time\"] = pd.to_datetime(df[\"Close Time\"],unit=\"ms\")\n",
    "target = 4\n",
    "sl = 2"
   ]
  },
  {
   "cell_type": "code",
   "execution_count": 8,
   "metadata": {},
   "outputs": [],
   "source": [
    "cron = SlackCron()"
   ]
  },
  {
   "cell_type": "code",
   "execution_count": 6,
   "metadata": {},
   "outputs": [
    {
     "name": "stdout",
     "output_type": "stream",
     "text": [
      "Startng sync...\n",
      "Stopping\n",
      "Start: 1672941599999.0\n",
      " Stop: 1672941660191.0\n",
      "Last candle: 2023-01-05 17:59:59.999000\n",
      "Current Time: 2023-01-05 23:31:00.191000\n",
      "Dataframe End: 2023-01-05 17:44:59.999000\n",
      "Open Time                              2023-01-05 17:45:00\n",
      "Open                                               1246.98\n",
      "High                                               1247.38\n",
      "Low                                                1246.36\n",
      "Close                                              1246.79\n",
      "Volume                                             17316.5\n",
      "Close Time                      2023-01-05 17:59:59.999000\n",
      "Quote asset volumne                                    NaN\n",
      "Total Trades                                           NaN\n",
      "Buyer Base Volume                                      NaN\n",
      "Taker buy quote asset volume                           NaN\n",
      "Ignore                                                   0\n",
      "Quote Asset Volume                              2.1591e+07\n",
      "Number of Trades                                      8365\n",
      "Taker Buy Base Asset Volume                         8270.4\n",
      "Taker Buy Quote Asset Volume                   1.03119e+07\n",
      "EMA_20                                             1248.84\n",
      "EMA_50                                             1250.06\n",
      "EMA_200                                            1243.35\n",
      "Buy                                                      0\n",
      "Sell                                                     0\n",
      "Name: 5771, dtype: object\n",
      "Synced!\n",
      "Startng sync...\n",
      "Stopping\n",
      "Start: 1672942499999.0\n",
      " Stop: 1672942560227.0\n",
      "Last candle: 2023-01-05 18:14:59.999000\n",
      "Current Time: 2023-01-05 23:46:00.227000\n",
      "Dataframe End: 2023-01-05 17:59:59.999000\n",
      "Open Time                              2023-01-05 18:00:00\n",
      "Open                                               1246.79\n",
      "High                                               1248.27\n",
      "Low                                                1246.34\n",
      "Close                                              1247.38\n",
      "Volume                                               20898\n",
      "Close Time                      2023-01-05 18:14:59.999000\n",
      "Quote asset volumne                                    NaN\n",
      "Total Trades                                           NaN\n",
      "Buyer Base Volume                                      NaN\n",
      "Taker buy quote asset volume                           NaN\n",
      "Ignore                                                   0\n",
      "Quote Asset Volume                             2.60597e+07\n",
      "Number of Trades                                      9102\n",
      "Taker Buy Base Asset Volume                        11428.7\n",
      "Taker Buy Quote Asset Volume                    1.4252e+07\n",
      "EMA_20                                              1248.7\n",
      "EMA_50                                             1249.96\n",
      "EMA_200                                            1243.39\n",
      "Buy                                                      0\n",
      "Sell                                                     0\n",
      "Name: 5772, dtype: object\n",
      "Synced!\n",
      "Startng sync...\n",
      "Stopping\n",
      "Start: 1672943399999.0\n",
      " Stop: 1672943460243.0\n",
      "Last candle: 2023-01-05 18:29:59.999000\n",
      "Current Time: 2023-01-06 00:01:00.243000\n",
      "Dataframe End: 2023-01-05 18:14:59.999000\n",
      "Open Time                              2023-01-05 18:15:00\n",
      "Open                                               1247.38\n",
      "High                                               1250.99\n",
      "Low                                                1247.38\n",
      "Close                                              1250.62\n",
      "Volume                                             35837.4\n",
      "Close Time                      2023-01-05 18:29:59.999000\n",
      "Quote asset volumne                                    NaN\n",
      "Total Trades                                           NaN\n",
      "Buyer Base Volume                                      NaN\n",
      "Taker buy quote asset volume                           NaN\n",
      "Ignore                                                   0\n",
      "Quote Asset Volume                             4.47863e+07\n",
      "Number of Trades                                     15606\n",
      "Taker Buy Base Asset Volume                        23171.3\n",
      "Taker Buy Quote Asset Volume                   2.89575e+07\n",
      "EMA_20                                             1248.88\n",
      "EMA_50                                             1249.98\n",
      "EMA_200                                            1243.46\n",
      "Buy                                                      0\n",
      "Sell                                                     0\n",
      "Name: 5773, dtype: object\n",
      "Synced!\n"
     ]
    }
   ],
   "source": [
    "done = False\n",
    "while True:\n",
    "    # Change according to interval\n",
    "    if (datetime.now().minute-1)%15 != 0:\n",
    "        done = False\n",
    "        continue\n",
    "    if done:\n",
    "        continue\n",
    "    print(\"Startng sync...\")\n",
    "    sync = BinanceSync(df,symbol,interval)\n",
    "    sync.sync()\n",
    "    df = sync.df\n",
    "    df[\"EMA_20\"] = df[\"Close\"].ewm(span=20,adjust=False).mean()\n",
    "    df[\"EMA_50\"] = df[\"Close\"].ewm(span=50,adjust=False).mean()\n",
    "    df[\"EMA_200\"] = df[\"Close\"].ewm(span=200,adjust=False).mean()\n",
    "    df[\"Buy\"] = np.where( (df[\"EMA_20\"] > df[\"EMA_50\"]) & (df[\"EMA_20\"].shift(1) <= df[\"EMA_50\"].shift(1) ),1,0 )\n",
    "    df[\"Sell\"] = np.where( (df[\"EMA_20\"] < df[\"EMA_50\"]) & (df[\"EMA_20\"].shift(1) >= df[\"EMA_50\"].shift(1) ),1,0 )\n",
    "    print(df.iloc[-1])\n",
    "    print(\"Synced!\")\n",
    "    time = datetime.now().strftime(\"%Y-%m-%d %H:%M:%S\")\n",
    "    data = {\n",
    "        'time':time\n",
    "    }\n",
    "    if df.iloc[-1][\"Buy\"] == 1:\n",
    "        print(f\"Buy Signal at {df.iloc[-1]['Close Time']}\")\n",
    "        data['Signal'] = \"Buy\"\n",
    "        data[\"Close Price\"] = df.iloc[-1][\"Close\"]\n",
    "        data[\"Target\"] = df.iloc[-1][\"Close\"] + target*df.iloc[-1][\"Close\"]/100\n",
    "        data[\"Stop Loss\"] = df.iloc[-1][\"Close\"] - sl*df.iloc[-1][\"Close\"]/100\n",
    "        cron.send(data)\n",
    "    if df.iloc[-1][\"Sell\"] == 1:\n",
    "        print(f\"Sell Signal at {df.iloc[-1]['Close Time']}\")\n",
    "        data['Signal'] = \"Sell\"\n",
    "        data[\"Close Price\"] = df.iloc[-1][\"Close\"]\n",
    "        data[\"Target\"] = df.iloc[-1][\"Close\"] - target*df.iloc[-1][\"Close\"]/100\n",
    "        data[\"Stop Loss\"] = df.iloc[-1][\"Close\"] + sl*df.iloc[-1][\"Close\"]/100\n",
    "        cron.send(data)\n",
    "    done = True"
   ]
  },
  {
   "cell_type": "code",
   "execution_count": 11,
   "metadata": {},
   "outputs": [],
   "source": [
    "# sync = BinanceSync(df,symbol,interval)\n",
    "# sync.sync()\n",
    "# sync.df.tail()"
   ]
  },
  {
   "cell_type": "code",
   "execution_count": 5,
   "metadata": {},
   "outputs": [],
   "source": [
    "df = sync.df"
   ]
  },
  {
   "cell_type": "code",
   "execution_count": 5,
   "metadata": {},
   "outputs": [
    {
     "data": {
      "text/plain": [
       "-302862"
      ]
     },
     "execution_count": 5,
     "metadata": {},
     "output_type": "execute_result"
    }
   ],
   "source": [
    "1672940397137 - 1672940699999"
   ]
  },
  {
   "cell_type": "code",
   "execution_count": null,
   "metadata": {},
   "outputs": [],
   "source": []
  }
 ],
 "metadata": {
  "kernelspec": {
   "display_name": "Python 3",
   "language": "python",
   "name": "python3"
  },
  "language_info": {
   "codemirror_mode": {
    "name": "ipython",
    "version": 3
   },
   "file_extension": ".py",
   "mimetype": "text/x-python",
   "name": "python",
   "nbconvert_exporter": "python",
   "pygments_lexer": "ipython3",
   "version": "3.7.0 (v3.7.0:1bf9cc5093, Jun 27 2018, 04:59:51) [MSC v.1914 64 bit (AMD64)]"
  },
  "orig_nbformat": 4,
  "vscode": {
   "interpreter": {
    "hash": "8a5edab282632443219e051e4ade2d1d5bbc671c781051bf1437897cbdfea0f1"
   }
  }
 },
 "nbformat": 4,
 "nbformat_minor": 2
}
