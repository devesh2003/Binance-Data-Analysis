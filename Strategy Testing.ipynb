{
 "cells": [
  {
   "cell_type": "code",
   "execution_count": 1,
   "id": "f9f7a7f1",
   "metadata": {},
   "outputs": [
    {
     "name": "stderr",
     "output_type": "stream",
     "text": [
      "c:\\Users\\deves\\AppData\\Local\\Programs\\Python\\Python37\\lib\\site-packages\\requests\\__init__.py:114: RequestsDependencyWarning: urllib3 (1.26.9) or chardet (5.0.0)/charset_normalizer (2.0.12) doesn't match a supported version!\n",
      "  RequestsDependencyWarning,\n"
     ]
    }
   ],
   "source": [
    "import pandas as pd\n",
    "import numpy as np\n",
    "import matplotlib.pyplot as plt\n",
    "from sklearn import cluster\n",
    "import requests\n",
    "from BinanceCollector import BinanceCollector\n",
    "from TradeBook import TradeBook\n",
    "import warnings\n",
    "import pandas_ta as ta\n",
    "import talib\n",
    "warnings.filterwarnings(\"ignore\")"
   ]
  },
  {
   "cell_type": "code",
   "execution_count": 2,
   "id": "d50e4012",
   "metadata": {},
   "outputs": [],
   "source": [
    "_from = \"2022-01-01\"\n",
    "_to = \"2022-12-29\"\n",
    "_interval = \"15m\"\n",
    "_symbol = \"UNIUSDT\""
   ]
  },
  {
   "cell_type": "code",
   "execution_count": 9,
   "id": "494e7c68",
   "metadata": {},
   "outputs": [],
   "source": [
    "collector = BinanceCollector(_symbol,_from,_to,_interval)\n",
    "collector.start_collect()\n",
    "collector.df.columns = [\"Open Time\",\"Open\",\"High\",\"Low\",\"Close\",\"Volume\",\"Close Time\",\n",
    "             \"Quote asset volumne\",\"Total Trades\",\"Buyer Base Volume\",\n",
    "             \"Taker buy quote asset volume\",\"Ignore\"]\n",
    "data = collector.df"
   ]
  },
  {
   "cell_type": "code",
   "execution_count": 10,
   "id": "e6d4f008",
   "metadata": {},
   "outputs": [
    {
     "data": {
      "text/html": [
       "<div>\n",
       "<style scoped>\n",
       "    .dataframe tbody tr th:only-of-type {\n",
       "        vertical-align: middle;\n",
       "    }\n",
       "\n",
       "    .dataframe tbody tr th {\n",
       "        vertical-align: top;\n",
       "    }\n",
       "\n",
       "    .dataframe thead th {\n",
       "        text-align: right;\n",
       "    }\n",
       "</style>\n",
       "<table border=\"1\" class=\"dataframe\">\n",
       "  <thead>\n",
       "    <tr style=\"text-align: right;\">\n",
       "      <th></th>\n",
       "      <th>Open Time</th>\n",
       "      <th>Open</th>\n",
       "      <th>High</th>\n",
       "      <th>Low</th>\n",
       "      <th>Close</th>\n",
       "      <th>Volume</th>\n",
       "      <th>Close Time</th>\n",
       "      <th>Quote asset volumne</th>\n",
       "      <th>Total Trades</th>\n",
       "      <th>Buyer Base Volume</th>\n",
       "      <th>Taker buy quote asset volume</th>\n",
       "      <th>Ignore</th>\n",
       "    </tr>\n",
       "  </thead>\n",
       "  <tbody>\n",
       "    <tr>\n",
       "      <th>0</th>\n",
       "      <td>1.640996e+12</td>\n",
       "      <td>17.10</td>\n",
       "      <td>17.12</td>\n",
       "      <td>17.03</td>\n",
       "      <td>17.04</td>\n",
       "      <td>24345.57</td>\n",
       "      <td>1.640997e+12</td>\n",
       "      <td>415849.9904</td>\n",
       "      <td>805.0</td>\n",
       "      <td>11863.14</td>\n",
       "      <td>202703.1137</td>\n",
       "      <td>0.0</td>\n",
       "    </tr>\n",
       "    <tr>\n",
       "      <th>1</th>\n",
       "      <td>1.640997e+12</td>\n",
       "      <td>17.04</td>\n",
       "      <td>17.22</td>\n",
       "      <td>17.02</td>\n",
       "      <td>17.18</td>\n",
       "      <td>23246.50</td>\n",
       "      <td>1.640998e+12</td>\n",
       "      <td>397991.6415</td>\n",
       "      <td>1087.0</td>\n",
       "      <td>14562.99</td>\n",
       "      <td>249507.2653</td>\n",
       "      <td>0.0</td>\n",
       "    </tr>\n",
       "    <tr>\n",
       "      <th>2</th>\n",
       "      <td>1.640998e+12</td>\n",
       "      <td>17.17</td>\n",
       "      <td>17.24</td>\n",
       "      <td>17.15</td>\n",
       "      <td>17.21</td>\n",
       "      <td>20828.25</td>\n",
       "      <td>1.640999e+12</td>\n",
       "      <td>358136.6699</td>\n",
       "      <td>980.0</td>\n",
       "      <td>7785.41</td>\n",
       "      <td>133929.2104</td>\n",
       "      <td>0.0</td>\n",
       "    </tr>\n",
       "    <tr>\n",
       "      <th>3</th>\n",
       "      <td>1.640999e+12</td>\n",
       "      <td>17.20</td>\n",
       "      <td>17.31</td>\n",
       "      <td>17.12</td>\n",
       "      <td>17.31</td>\n",
       "      <td>22238.01</td>\n",
       "      <td>1.641000e+12</td>\n",
       "      <td>382702.2645</td>\n",
       "      <td>1130.0</td>\n",
       "      <td>16597.30</td>\n",
       "      <td>285771.2866</td>\n",
       "      <td>0.0</td>\n",
       "    </tr>\n",
       "    <tr>\n",
       "      <th>4</th>\n",
       "      <td>1.641000e+12</td>\n",
       "      <td>17.29</td>\n",
       "      <td>17.37</td>\n",
       "      <td>17.28</td>\n",
       "      <td>17.33</td>\n",
       "      <td>18773.92</td>\n",
       "      <td>1.641001e+12</td>\n",
       "      <td>325334.2542</td>\n",
       "      <td>1184.0</td>\n",
       "      <td>11077.62</td>\n",
       "      <td>192029.0644</td>\n",
       "      <td>0.0</td>\n",
       "    </tr>\n",
       "  </tbody>\n",
       "</table>\n",
       "</div>"
      ],
      "text/plain": [
       "      Open Time   Open   High    Low  Close    Volume    Close Time  \\\n",
       "0  1.640996e+12  17.10  17.12  17.03  17.04  24345.57  1.640997e+12   \n",
       "1  1.640997e+12  17.04  17.22  17.02  17.18  23246.50  1.640998e+12   \n",
       "2  1.640998e+12  17.17  17.24  17.15  17.21  20828.25  1.640999e+12   \n",
       "3  1.640999e+12  17.20  17.31  17.12  17.31  22238.01  1.641000e+12   \n",
       "4  1.641000e+12  17.29  17.37  17.28  17.33  18773.92  1.641001e+12   \n",
       "\n",
       "   Quote asset volumne  Total Trades  Buyer Base Volume  \\\n",
       "0          415849.9904         805.0           11863.14   \n",
       "1          397991.6415        1087.0           14562.99   \n",
       "2          358136.6699         980.0            7785.41   \n",
       "3          382702.2645        1130.0           16597.30   \n",
       "4          325334.2542        1184.0           11077.62   \n",
       "\n",
       "   Taker buy quote asset volume  Ignore  \n",
       "0                   202703.1137     0.0  \n",
       "1                   249507.2653     0.0  \n",
       "2                   133929.2104     0.0  \n",
       "3                   285771.2866     0.0  \n",
       "4                   192029.0644     0.0  "
      ]
     },
     "execution_count": 10,
     "metadata": {},
     "output_type": "execute_result"
    }
   ],
   "source": [
    "data.head()"
   ]
  },
  {
   "cell_type": "code",
   "execution_count": 11,
   "id": "f78992a8",
   "metadata": {},
   "outputs": [],
   "source": [
    "data[\"Open Time\"] = pd.to_datetime(data[\"Open Time\"],unit=\"ms\")\n",
    "data[\"Close Time\"] = pd.to_datetime(data[\"Close Time\"],unit=\"ms\")\n",
    "# Calculate the RSI\n",
    "data[\"RSI\"] = talib.RSI(data[\"Close\"], timeperiod=14)\n",
    "\n",
    "# Calculate MA\n",
    "# data[\"SMA_50\"] = data[\"Close\"].rolling(window=20).mean()\n",
    "# data[\"SMA_200\"] = data[\"Close\"].rolling(window=50).mean()\n",
    "data[\"SMA_50\"] = data[\"Close\"].ewm(span=20,adjust=False).mean()\n",
    "data[\"SMA_200\"] = data[\"Close\"].ewm(span=50,adjust=False).mean()\n",
    "# data[\"SMA_50\"] = ta.ema(data[\"Close\"],timeperiod=20)\n",
    "# data[\"SMA_200\"] = ta.ema(data[\"Close\"],timeperiod=50)\n",
    "\n",
    "data= data[ data[\"SMA_200\"].notna() ]\n",
    "\n",
    "# Calculate the MACD\n",
    "data[\"MACD\"], data[\"MACD_Signal\"], data[\"MACD_Hist\"] = talib.MACD(data[\"Close\"], fastperiod=12, slowperiod=26, signalperiod=9)\n",
    "\n",
    "data = data.reset_index()"
   ]
  },
  {
   "cell_type": "code",
   "execution_count": 12,
   "id": "a178c20c",
   "metadata": {},
   "outputs": [],
   "source": [
    "# Initialize the signals\n",
    "data[\"Signal_RSI\"] = np.where(data[\"RSI\"] < 30, 1, 0)\n",
    "# data[\"Signal_RSI\"] = np.where((data[\"RSI\"] > 70) | (data[\"RSI\"] < 30), 1, 0)\n",
    "data[\"Signal_MA\"] = np.where((data[\"SMA_50\"] > data[\"SMA_200\"]) & (data[\"SMA_50\"].shift(1) <= data[\"SMA_200\"].shift(1)), 1, 0)\n",
    "data[\"Signal_MACD\"] = np.where( (data[\"MACD\"] > data[\"MACD_Signal\"]) & (data[\"MACD\"].shift(1) <= data[\"MACD_Signal\"] ) & ( data[\"MACD_Signal\"] < -0.4 ),1,0 )\n",
    "\n",
    "# Shift the signals one day forward\n",
    "data[\"Signal_RSI\"] = data[\"Signal_RSI\"].shift(1)\n",
    "data[\"Signal_MA\"] = data[\"Signal_MA\"].shift(1)\n",
    "data[\"Signal_MACD\"] = data[\"Signal_MACD\"].shift(1)"
   ]
  },
  {
   "cell_type": "code",
   "execution_count": 13,
   "id": "1b55046d",
   "metadata": {},
   "outputs": [
    {
     "data": {
      "text/plain": [
       "[<matplotlib.lines.Line2D at 0x1aaab083780>]"
      ]
     },
     "execution_count": 13,
     "metadata": {},
     "output_type": "execute_result"
    },
    {
     "data": {
      "image/png": "[encoded data removed]",
      "text/plain": [
       "<Figure size 432x288 with 1 Axes>"
      ]
     },
     "metadata": {
      "needs_background": "light"
     },
     "output_type": "display_data"
    }
   ],
   "source": [
    "# Calculate the returns\n",
    "data[\"Return\"] = (data[\"Close\"] - data[\"Open\"])*100/data[\"Open\"]\n",
    "\n",
    "# Calculate the strategy returns\n",
    "data[\"Strategy Return\"] = data[\"Signal_MACD\"] * data[\"Return\"]\n",
    "\n",
    "# Calculate the cumulative returns\n",
    "data[\"Cumulative Return\"] = data[\"Strategy Return\"].cumsum()\n",
    "\n",
    "# Plot the returns\n",
    "# data[[\"Cumulative Return\"]].plot(figsize=(10, 5),)\n",
    "plt.plot(data[\"Open Time\"],data[\"Cumulative Return\"])"
   ]
  },
  {
   "cell_type": "code",
   "execution_count": 15,
   "id": "5d78daae",
   "metadata": {},
   "outputs": [
    {
     "name": "stdout",
     "output_type": "stream",
     "text": [
      "Returns: 28.64440543140202\n"
     ]
    }
   ],
   "source": [
    "trades = 0\n",
    "returns = 0\n",
    "wins = 0\n",
    "losses = 0\n",
    "neutral = 0\n",
    "last_trade = 0\n",
    "book = TradeBook(_symbol,_from+\"_\"+_to,_interval,custom_fields=[\"SMA_20\",\"SMA_50\"])\n",
    "for index in np.where( (data[\"Signal_MA\"] == 1) )[0]:\n",
    "    if index < last_trade:\n",
    "        continue\n",
    "    target = 5/100\n",
    "    sl = 2/100\n",
    "    target_price = data[\"Open\"][index] * (1+target)\n",
    "    sl_price = data[\"Open\"][index] * (1-sl)\n",
    "    cur = index+1\n",
    "    settled = False\n",
    "    while cur < index+96 and cur < len(data):\n",
    "        if data[\"High\"][cur] >= target_price:\n",
    "            settled = True\n",
    "            returns += target*100\n",
    "            wins += 1\n",
    "            book.add_entry([str(data[\"Open Time\"][index]),str(data[\"Open\"][index]),\n",
    "                        str(data[\"Close\"][cur]),str(data[\"Close Time\"][cur]),\n",
    "                        str( target*100  ), str(data[\"SMA_50\"][index]), str(data[\"SMA_200\"][index]) ])\n",
    "            break\n",
    "        elif data[\"Low\"][cur] <= sl_price:\n",
    "            settled = True\n",
    "            returns -= sl*100\n",
    "            losses += 1\n",
    "            book.add_entry([str(data[\"Open Time\"][index]),str(data[\"Open\"][index]),\n",
    "                        str(data[\"Close\"][cur]),str(data[\"Close Time\"][cur]),\n",
    "                        str( -sl*100 ) , str(data[\"SMA_50\"][index]), str(data[\"SMA_200\"][index])])\n",
    "            break\n",
    "        cur += 1\n",
    "    if not settled:\n",
    "        if cur == len(data):\n",
    "            cur -= 1\n",
    "        returns += (data[\"Close\"][cur] - data[\"Open\"][index])*100/data[\"Open\"][index] \n",
    "        neutral += 1\n",
    "        book.add_entry([str(data[\"Open Time\"][index]),str(data[\"Open\"][index]),\n",
    "                        str(data[\"Close\"][cur]),str(data[\"Close Time\"][cur]),\n",
    "                        str( (data[\"Close\"][cur] - data[\"Open\"][index])*100/data[\"Open\"][index]  ),\n",
    "                        str(data[\"SMA_50\"][index]), str(data[\"SMA_200\"][index]) ])\n",
    "    last_trade = cur\n",
    "\n",
    "        \n",
    "print(f\"Returns: {returns}\")"
   ]
  },
  {
   "cell_type": "code",
   "execution_count": null,
   "id": "8accc752",
   "metadata": {},
   "outputs": [],
   "source": []
  },
  {
   "cell_type": "code",
   "execution_count": null,
   "id": "90f9d69a",
   "metadata": {},
   "outputs": [],
   "source": []
  },
  {
   "cell_type": "code",
   "execution_count": null,
   "id": "05e6e6c9",
   "metadata": {},
   "outputs": [],
   "source": []
  },
  {
   "cell_type": "code",
   "execution_count": null,
   "id": "78e6ae28",
   "metadata": {},
   "outputs": [],
   "source": []
  },
  {
   "cell_type": "code",
   "execution_count": null,
   "id": "6d474223",
   "metadata": {},
   "outputs": [],
   "source": []
  },
  {
   "cell_type": "code",
   "execution_count": null,
   "id": "519ef355",
   "metadata": {},
   "outputs": [],
   "source": []
  }
 ],
 "metadata": {
  "kernelspec": {
   "display_name": "Python 3",
   "language": "python",
   "name": "python3"
  },
  "language_info": {
   "codemirror_mode": {
    "name": "ipython",
    "version": 3
   },
   "file_extension": ".py",
   "mimetype": "text/x-python",
   "name": "python",
   "nbconvert_exporter": "python",
   "pygments_lexer": "ipython3",
   "version": "3.7.0 (v3.7.0:1bf9cc5093, Jun 27 2018, 04:59:51) [MSC v.1914 64 bit (AMD64)]"
  },
  "vscode": {
   "interpreter": {
    "hash": "47b6649d89d45d82a2a83f82e518c08ecd52f301339961f4416eb8c43aea9152"
   }
  }
 },
 "nbformat": 4,
 "nbformat_minor": 5
}
