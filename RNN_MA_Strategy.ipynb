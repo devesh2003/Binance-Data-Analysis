{
 "cells": [
  {
   "cell_type": "code",
   "execution_count": 1,
   "metadata": {},
   "outputs": [
    {
     "name": "stderr",
     "output_type": "stream",
     "text": [
      "c:\\Users\\deves\\AppData\\Local\\Programs\\Python\\Python37\\lib\\site-packages\\requests\\__init__.py:114: RequestsDependencyWarning: urllib3 (1.26.9) or chardet (5.0.0)/charset_normalizer (2.0.12) doesn't match a supported version!\n",
      "  RequestsDependencyWarning,\n"
     ]
    }
   ],
   "source": [
    "import pandas as pd\n",
    "import numpy as np\n",
    "from tensorflow import keras\n",
    "from BinanceCollector import BinanceCollector\n",
    "from TradeBook import TradeBook\n",
    "import warnings\n",
    "warnings.filterwarnings(\"ignore\")\n",
    "from BreakdownCalculator import BreakdownCalculator\n",
    "from BinanceSync import BinanceSync\n",
    "from sklearn.model_selection import train_test_split\n",
    "from tensorflow import keras\n",
    "from HyperBacktest import HyperBacktest"
   ]
  },
  {
   "cell_type": "code",
   "execution_count": 2,
   "metadata": {},
   "outputs": [],
   "source": [
    "collector = BinanceCollector(\"ETHUSDT\",\"2022-01-01\",\"2023-01-02\",\"15m\")\n",
    "collector.start_collect()\n",
    "collector.df.columns = [\"Open Time\",\"Open\",\"High\",\"Low\",\"Close\",\"Volume\",\"Close Time\",\n",
    "             \"Quote asset volumne\",\"Total Trades\",\"Buyer Base Volume\",\n",
    "             \"Taker buy quote asset volume\",\"Ignore\"]\n",
    "df = collector.df\n",
    "breakdown = BinanceCollector(\"ETHUSDT\",\"2022-01-01\",\"2023-01-02\",\"1m\")\n",
    "breakdown.start_collect()\n",
    "breakdown.df.columns = [\"Open Time\",\"Open\",\"High\",\"Low\",\"Close\",\"Volume\",\"Close Time\",\n",
    "             \"Quote asset volumne\",\"Total Trades\",\"Buyer Base Volume\",\n",
    "             \"Taker buy quote asset volume\",\"Ignore\"]\n",
    "breakdown_df = breakdown.df\n",
    "calculator = BreakdownCalculator(breakdown_df)"
   ]
  },
  {
   "cell_type": "code",
   "execution_count": 3,
   "metadata": {},
   "outputs": [],
   "source": [
    "df[\"Open Time\"] = pd.to_datetime(df[\"Open Time\"],unit=\"ms\")\n",
    "df[\"Close Time\"] = pd.to_datetime(df[\"Close Time\"]+1,unit=\"ms\")\n",
    "open_time = df[\"Open Time\"]"
   ]
  },
  {
   "cell_type": "code",
   "execution_count": 4,
   "metadata": {},
   "outputs": [],
   "source": [
    "df[\"EMA_20\"] = df[\"Close\"].ewm(span=20,adjust=False).mean()\n",
    "df[\"EMA_50\"] = df[\"Close\"].ewm(span=50,adjust=False).mean()\n",
    "df[\"EMA_200\"] = df[\"Close\"].ewm(span=200,adjust=False).mean()\n",
    "\n",
    "df = df[[\"Open\",\"High\",\"Low\",\"Close\",\"EMA_20\",\"EMA_50\",\"EMA_200\",\"Open Time\"]]\n",
    "\n",
    "# Normalising Data\n",
    "# df = (df - df.mean())/df.std()"
   ]
  },
  {
   "cell_type": "code",
   "execution_count": 5,
   "metadata": {},
   "outputs": [],
   "source": [
    "# Filter dataframe for month\n",
    "df = df[df[\"Open Time\"].dt.month == 4]\n",
    "df.reset_index(inplace=True)"
   ]
  },
  {
   "cell_type": "code",
   "execution_count": 6,
   "metadata": {},
   "outputs": [],
   "source": [
    "df[\"Buy\"] = np.where( (df[\"EMA_20\"] > df[\"EMA_50\"]) & (df[\"EMA_20\"].shift(1) <= df[\"EMA_50\"].shift(1) ),1,0 )\n",
    "df[\"Sell\"] = np.where( (df[\"EMA_20\"] < df[\"EMA_50\"]) & (df[\"EMA_20\"].shift(1) >= df[\"EMA_50\"].shift(1) ),1,0 )\n",
    "df[\"Returns\"] = 0"
   ]
  },
  {
   "cell_type": "code",
   "execution_count": 8,
   "metadata": {},
   "outputs": [
    {
     "data": {
      "text/html": [
       "<div>\n",
       "<style scoped>\n",
       "    .dataframe tbody tr th:only-of-type {\n",
       "        vertical-align: middle;\n",
       "    }\n",
       "\n",
       "    .dataframe tbody tr th {\n",
       "        vertical-align: top;\n",
       "    }\n",
       "\n",
       "    .dataframe thead th {\n",
       "        text-align: right;\n",
       "    }\n",
       "</style>\n",
       "<table border=\"1\" class=\"dataframe\">\n",
       "  <thead>\n",
       "    <tr style=\"text-align: right;\">\n",
       "      <th></th>\n",
       "      <th>index</th>\n",
       "      <th>Open</th>\n",
       "      <th>High</th>\n",
       "      <th>Low</th>\n",
       "      <th>Close</th>\n",
       "      <th>EMA_20</th>\n",
       "      <th>EMA_50</th>\n",
       "      <th>EMA_200</th>\n",
       "      <th>Open Time</th>\n",
       "      <th>Buy</th>\n",
       "      <th>Sell</th>\n",
       "      <th>Returns</th>\n",
       "    </tr>\n",
       "  </thead>\n",
       "  <tbody>\n",
       "    <tr>\n",
       "      <th>2845</th>\n",
       "      <td>11395</td>\n",
       "      <td>2794.99</td>\n",
       "      <td>2795.00</td>\n",
       "      <td>2780.00</td>\n",
       "      <td>2781.21</td>\n",
       "      <td>2793.757795</td>\n",
       "      <td>2802.798689</td>\n",
       "      <td>2837.919246</td>\n",
       "      <td>2022-04-30 22:45:00</td>\n",
       "      <td>0</td>\n",
       "      <td>0</td>\n",
       "      <td>0</td>\n",
       "    </tr>\n",
       "    <tr>\n",
       "      <th>2846</th>\n",
       "      <td>11396</td>\n",
       "      <td>2781.22</td>\n",
       "      <td>2785.82</td>\n",
       "      <td>2709.26</td>\n",
       "      <td>2739.86</td>\n",
       "      <td>2788.624672</td>\n",
       "      <td>2800.330505</td>\n",
       "      <td>2836.943532</td>\n",
       "      <td>2022-04-30 23:00:00</td>\n",
       "      <td>0</td>\n",
       "      <td>0</td>\n",
       "      <td>0</td>\n",
       "    </tr>\n",
       "    <tr>\n",
       "      <th>2847</th>\n",
       "      <td>11397</td>\n",
       "      <td>2739.86</td>\n",
       "      <td>2744.56</td>\n",
       "      <td>2728.56</td>\n",
       "      <td>2735.48</td>\n",
       "      <td>2783.563274</td>\n",
       "      <td>2797.787348</td>\n",
       "      <td>2835.933945</td>\n",
       "      <td>2022-04-30 23:15:00</td>\n",
       "      <td>0</td>\n",
       "      <td>0</td>\n",
       "      <td>0</td>\n",
       "    </tr>\n",
       "    <tr>\n",
       "      <th>2848</th>\n",
       "      <td>11398</td>\n",
       "      <td>2735.49</td>\n",
       "      <td>2749.99</td>\n",
       "      <td>2722.10</td>\n",
       "      <td>2725.37</td>\n",
       "      <td>2778.021058</td>\n",
       "      <td>2794.947452</td>\n",
       "      <td>2834.833806</td>\n",
       "      <td>2022-04-30 23:30:00</td>\n",
       "      <td>0</td>\n",
       "      <td>0</td>\n",
       "      <td>0</td>\n",
       "    </tr>\n",
       "    <tr>\n",
       "      <th>2849</th>\n",
       "      <td>11399</td>\n",
       "      <td>2725.37</td>\n",
       "      <td>2737.55</td>\n",
       "      <td>2720.34</td>\n",
       "      <td>2726.66</td>\n",
       "      <td>2773.129528</td>\n",
       "      <td>2792.269513</td>\n",
       "      <td>2833.757450</td>\n",
       "      <td>2022-04-30 23:45:00</td>\n",
       "      <td>0</td>\n",
       "      <td>0</td>\n",
       "      <td>0</td>\n",
       "    </tr>\n",
       "  </tbody>\n",
       "</table>\n",
       "</div>"
      ],
      "text/plain": [
       "      index     Open     High      Low    Close       EMA_20       EMA_50  \\\n",
       "2845  11395  2794.99  2795.00  2780.00  2781.21  2793.757795  2802.798689   \n",
       "2846  11396  2781.22  2785.82  2709.26  2739.86  2788.624672  2800.330505   \n",
       "2847  11397  2739.86  2744.56  2728.56  2735.48  2783.563274  2797.787348   \n",
       "2848  11398  2735.49  2749.99  2722.10  2725.37  2778.021058  2794.947452   \n",
       "2849  11399  2725.37  2737.55  2720.34  2726.66  2773.129528  2792.269513   \n",
       "\n",
       "          EMA_200           Open Time  Buy  Sell  Returns  \n",
       "2845  2837.919246 2022-04-30 22:45:00    0     0        0  \n",
       "2846  2836.943532 2022-04-30 23:00:00    0     0        0  \n",
       "2847  2835.933945 2022-04-30 23:15:00    0     0        0  \n",
       "2848  2834.833806 2022-04-30 23:30:00    0     0        0  \n",
       "2849  2833.757450 2022-04-30 23:45:00    0     0        0  "
      ]
     },
     "execution_count": 8,
     "metadata": {},
     "output_type": "execute_result"
    }
   ],
   "source": [
    "main = df.copy()\n",
    "main.tail()"
   ]
  },
  {
   "cell_type": "code",
   "execution_count": 9,
   "metadata": {},
   "outputs": [],
   "source": [
    "max_time = 1*(24*60/15) # Days*C\n",
    "\n",
    "target = 4/100\n",
    "sl = -2/100\n",
    "wins = 0\n",
    "losses = 0\n",
    "# For each buy signal\n",
    "for i in np.where( (df[\"Buy\"] == 1) )[0]:\n",
    "    # df[\"Returns\"][i] = 0\n",
    "    # continue\n",
    "    target_price = df[\"Close\"][i] * (1+target)\n",
    "    sl_price = df[\"Close\"][i] * (1+sl)\n",
    "    from_time = df[\"Open Time\"][i]\n",
    "    to_time = min(df[\"Open Time\"][i] + pd.Timedelta(minutes=15*max_time),df[\"Open Time\"][len(df) - 1])\n",
    "    df[\"Returns\"][i] = calculator.calculate(from_time,to_time,target_price,sl_price) - 0.1 # Fees\n",
    "    if df[\"Returns\"][i] > 0:\n",
    "        wins += 1\n",
    "    else:\n",
    "        losses += 1\n",
    "\n",
    "target = -4/100\n",
    "sl = 2/100\n",
    "wins = 0\n",
    "losses = 0\n",
    "# For each sell signal\n",
    "for i in np.where( (df[\"Sell\"] == 1) )[0]:\n",
    "    # df[\"Returns\"][i] = 0\n",
    "    # continue\n",
    "    target_price = df[\"Close\"][i] * (1+target)\n",
    "    sl_price = df[\"Close\"][i] * (1+sl)\n",
    "    from_time = df[\"Open Time\"][i]\n",
    "    to_time = min(df[\"Open Time\"][i] + pd.Timedelta(minutes=15*max_time),df[\"Open Time\"][len(df) - 1])\n",
    "    df[\"Returns\"][i] = calculator.calculate(from_time,to_time,target_price,sl_price,trade=\"short\") - 0.1 # Fees\n",
    "    if df[\"Returns\"][i] > 0:\n",
    "        wins += 1\n",
    "    else:\n",
    "        losses += 1"
   ]
  },
  {
   "cell_type": "code",
   "execution_count": 16,
   "metadata": {},
   "outputs": [],
   "source": [
    "df = main.copy()\n",
    "backtest = HyperBacktest(4,-2,calculator,df,short=False)\n",
    "backtest.run()\n",
    "df = backtest.df"
   ]
  },
  {
   "cell_type": "code",
   "execution_count": 17,
   "metadata": {},
   "outputs": [
    {
     "data": {
      "text/plain": [
       "<AxesSubplot:>"
      ]
     },
     "execution_count": 17,
     "metadata": {},
     "output_type": "execute_result"
    },
    {
     "data": {
      "image/png": "[encoded data removed]",
      "text/plain": [
       "<Figure size 432x288 with 1 Axes>"
      ]
     },
     "metadata": {
      "needs_background": "light"
     },
     "output_type": "display_data"
    }
   ],
   "source": [
    "df[\"Returns\"].cumsum().plot()\n",
    "# df[\"Returns\"].sum()"
   ]
  },
  {
   "cell_type": "code",
   "execution_count": 42,
   "metadata": {},
   "outputs": [
    {
     "data": {
      "text/html": [
       "<div>\n",
       "<style scoped>\n",
       "    .dataframe tbody tr th:only-of-type {\n",
       "        vertical-align: middle;\n",
       "    }\n",
       "\n",
       "    .dataframe tbody tr th {\n",
       "        vertical-align: top;\n",
       "    }\n",
       "\n",
       "    .dataframe thead th {\n",
       "        text-align: right;\n",
       "    }\n",
       "</style>\n",
       "<table border=\"1\" class=\"dataframe\">\n",
       "  <thead>\n",
       "    <tr style=\"text-align: right;\">\n",
       "      <th></th>\n",
       "      <th>Open</th>\n",
       "      <th>High</th>\n",
       "      <th>Low</th>\n",
       "      <th>Close</th>\n",
       "      <th>EMA_20</th>\n",
       "      <th>EMA_50</th>\n",
       "      <th>EMA_200</th>\n",
       "      <th>Buy</th>\n",
       "      <th>Sell</th>\n",
       "      <th>Returns</th>\n",
       "      <th>Open Time</th>\n",
       "    </tr>\n",
       "  </thead>\n",
       "  <tbody>\n",
       "    <tr>\n",
       "      <th>408</th>\n",
       "      <td>3820.98</td>\n",
       "      <td>3821.51</td>\n",
       "      <td>3812.73</td>\n",
       "      <td>3817.82</td>\n",
       "      <td>3811.501825</td>\n",
       "      <td>3811.299024</td>\n",
       "      <td>3795.657448</td>\n",
       "      <td>1</td>\n",
       "      <td>0</td>\n",
       "      <td>-2</td>\n",
       "      <td>2022-01-05 07:15:00</td>\n",
       "    </tr>\n",
       "    <tr>\n",
       "      <th>444</th>\n",
       "      <td>3809.73</td>\n",
       "      <td>3820.39</td>\n",
       "      <td>3805.99</td>\n",
       "      <td>3819.76</td>\n",
       "      <td>3811.111326</td>\n",
       "      <td>3810.799817</td>\n",
       "      <td>3800.374246</td>\n",
       "      <td>1</td>\n",
       "      <td>0</td>\n",
       "      <td>-1</td>\n",
       "      <td>2022-01-05 16:15:00</td>\n",
       "    </tr>\n",
       "    <tr>\n",
       "      <th>553</th>\n",
       "      <td>3449.15</td>\n",
       "      <td>3455.83</td>\n",
       "      <td>3446.58</td>\n",
       "      <td>3447.29</td>\n",
       "      <td>3423.356897</td>\n",
       "      <td>3422.505477</td>\n",
       "      <td>3573.222997</td>\n",
       "      <td>1</td>\n",
       "      <td>0</td>\n",
       "      <td>-2</td>\n",
       "      <td>2022-01-06 19:45:00</td>\n",
       "    </tr>\n",
       "    <tr>\n",
       "      <th>670</th>\n",
       "      <td>3228.13</td>\n",
       "      <td>3229.64</td>\n",
       "      <td>3219.08</td>\n",
       "      <td>3225.51</td>\n",
       "      <td>3209.704034</td>\n",
       "      <td>3209.394007</td>\n",
       "      <td>3339.281774</td>\n",
       "      <td>1</td>\n",
       "      <td>0</td>\n",
       "      <td>-2</td>\n",
       "      <td>2022-01-08 01:30:00</td>\n",
       "    </tr>\n",
       "    <tr>\n",
       "      <th>683</th>\n",
       "      <td>3221.87</td>\n",
       "      <td>3227.46</td>\n",
       "      <td>3217.97</td>\n",
       "      <td>3218.69</td>\n",
       "      <td>3209.102046</td>\n",
       "      <td>3208.866012</td>\n",
       "      <td>3323.252767</td>\n",
       "      <td>1</td>\n",
       "      <td>0</td>\n",
       "      <td>-2</td>\n",
       "      <td>2022-01-08 04:45:00</td>\n",
       "    </tr>\n",
       "    <tr>\n",
       "      <th>...</th>\n",
       "      <td>...</td>\n",
       "      <td>...</td>\n",
       "      <td>...</td>\n",
       "      <td>...</td>\n",
       "      <td>...</td>\n",
       "      <td>...</td>\n",
       "      <td>...</td>\n",
       "      <td>...</td>\n",
       "      <td>...</td>\n",
       "      <td>...</td>\n",
       "      <td>...</td>\n",
       "    </tr>\n",
       "    <tr>\n",
       "      <th>33184</th>\n",
       "      <td>1277.12</td>\n",
       "      <td>1278.26</td>\n",
       "      <td>1275.79</td>\n",
       "      <td>1278.12</td>\n",
       "      <td>1271.967696</td>\n",
       "      <td>1271.966379</td>\n",
       "      <td>1285.226014</td>\n",
       "      <td>1</td>\n",
       "      <td>0</td>\n",
       "      <td>-2</td>\n",
       "      <td>2022-12-16 07:30:00</td>\n",
       "    </tr>\n",
       "    <tr>\n",
       "      <th>33425</th>\n",
       "      <td>1184.16</td>\n",
       "      <td>1186.30</td>\n",
       "      <td>1183.58</td>\n",
       "      <td>1183.95</td>\n",
       "      <td>1180.735682</td>\n",
       "      <td>1180.661149</td>\n",
       "      <td>1191.986788</td>\n",
       "      <td>1</td>\n",
       "      <td>0</td>\n",
       "      <td>-1</td>\n",
       "      <td>2022-12-18 20:15:00</td>\n",
       "    </tr>\n",
       "    <tr>\n",
       "      <th>33480</th>\n",
       "      <td>1184.81</td>\n",
       "      <td>1188.38</td>\n",
       "      <td>1184.80</td>\n",
       "      <td>1187.00</td>\n",
       "      <td>1183.228258</td>\n",
       "      <td>1182.998361</td>\n",
       "      <td>1188.551673</td>\n",
       "      <td>1</td>\n",
       "      <td>0</td>\n",
       "      <td>-1</td>\n",
       "      <td>2022-12-19 10:15:00</td>\n",
       "    </tr>\n",
       "    <tr>\n",
       "      <th>33727</th>\n",
       "      <td>1213.82</td>\n",
       "      <td>1217.67</td>\n",
       "      <td>1213.81</td>\n",
       "      <td>1217.64</td>\n",
       "      <td>1212.371901</td>\n",
       "      <td>1212.060848</td>\n",
       "      <td>1207.399937</td>\n",
       "      <td>1</td>\n",
       "      <td>0</td>\n",
       "      <td>-1</td>\n",
       "      <td>2022-12-22 00:45:00</td>\n",
       "    </tr>\n",
       "    <tr>\n",
       "      <th>33757</th>\n",
       "      <td>1213.50</td>\n",
       "      <td>1216.61</td>\n",
       "      <td>1213.47</td>\n",
       "      <td>1215.82</td>\n",
       "      <td>1212.868574</td>\n",
       "      <td>1212.718010</td>\n",
       "      <td>1208.892903</td>\n",
       "      <td>1</td>\n",
       "      <td>0</td>\n",
       "      <td>-1</td>\n",
       "      <td>2022-12-22 08:15:00</td>\n",
       "    </tr>\n",
       "  </tbody>\n",
       "</table>\n",
       "<p>167 rows × 11 columns</p>\n",
       "</div>"
      ],
      "text/plain": [
       "          Open     High      Low    Close       EMA_20       EMA_50  \\\n",
       "408    3820.98  3821.51  3812.73  3817.82  3811.501825  3811.299024   \n",
       "444    3809.73  3820.39  3805.99  3819.76  3811.111326  3810.799817   \n",
       "553    3449.15  3455.83  3446.58  3447.29  3423.356897  3422.505477   \n",
       "670    3228.13  3229.64  3219.08  3225.51  3209.704034  3209.394007   \n",
       "683    3221.87  3227.46  3217.97  3218.69  3209.102046  3208.866012   \n",
       "...        ...      ...      ...      ...          ...          ...   \n",
       "33184  1277.12  1278.26  1275.79  1278.12  1271.967696  1271.966379   \n",
       "33425  1184.16  1186.30  1183.58  1183.95  1180.735682  1180.661149   \n",
       "33480  1184.81  1188.38  1184.80  1187.00  1183.228258  1182.998361   \n",
       "33727  1213.82  1217.67  1213.81  1217.64  1212.371901  1212.060848   \n",
       "33757  1213.50  1216.61  1213.47  1215.82  1212.868574  1212.718010   \n",
       "\n",
       "           EMA_200  Buy  Sell  Returns           Open Time  \n",
       "408    3795.657448    1     0       -2 2022-01-05 07:15:00  \n",
       "444    3800.374246    1     0       -1 2022-01-05 16:15:00  \n",
       "553    3573.222997    1     0       -2 2022-01-06 19:45:00  \n",
       "670    3339.281774    1     0       -2 2022-01-08 01:30:00  \n",
       "683    3323.252767    1     0       -2 2022-01-08 04:45:00  \n",
       "...            ...  ...   ...      ...                 ...  \n",
       "33184  1285.226014    1     0       -2 2022-12-16 07:30:00  \n",
       "33425  1191.986788    1     0       -1 2022-12-18 20:15:00  \n",
       "33480  1188.551673    1     0       -1 2022-12-19 10:15:00  \n",
       "33727  1207.399937    1     0       -1 2022-12-22 00:45:00  \n",
       "33757  1208.892903    1     0       -1 2022-12-22 08:15:00  \n",
       "\n",
       "[167 rows x 11 columns]"
      ]
     },
     "execution_count": 42,
     "metadata": {},
     "output_type": "execute_result"
    }
   ],
   "source": [
    "df[ (df[\"Buy\"] == 1) & (df[\"Returns\"] < 0) ]"
   ]
  },
  {
   "cell_type": "code",
   "execution_count": 71,
   "metadata": {},
   "outputs": [],
   "source": [
    "# Optimizing data for profitable buy signals\n",
    "x = df[ df[\"Buy\"] == 1 ]\n",
    "y = np.where( x[\"Returns\"] > 2,1 ,0 )\n",
    "x = x[[\"Open\",\"High\",\"Low\",\"Close\",\"EMA_20\",\"EMA_50\",\"EMA_200\"]]"
   ]
  },
  {
   "cell_type": "code",
   "execution_count": 72,
   "metadata": {},
   "outputs": [],
   "source": [
    "x_train,x_test,y_train,y_test = train_test_split(x,y,test_size=0.2)\n",
    "x_train = np.reshape( np.array(x_train), (x_train.shape[0],1,x_train.shape[1]) )\n",
    "x_test = np.reshape( np.array(x_test), (x_test.shape[0],1,x_test.shape[1]) )"
   ]
  },
  {
   "cell_type": "code",
   "execution_count": 130,
   "metadata": {},
   "outputs": [
    {
     "name": "stdout",
     "output_type": "stream",
     "text": [
      "Train on 260 samples\n",
      "Epoch 1/10\n",
      "260/260 [==============================] - 2s 6ms/sample - loss: 0.7050 - acc: 0.7188\n",
      "Epoch 2/10\n",
      "260/260 [==============================] - 0s 200us/sample - loss: 0.6902 - acc: 0.8046\n",
      "Epoch 3/10\n",
      "260/260 [==============================] - 0s 169us/sample - loss: 0.6890 - acc: 0.8046\n",
      "Epoch 4/10\n",
      "260/260 [==============================] - 0s 169us/sample - loss: 0.6879 - acc: 0.8012\n",
      "Epoch 5/10\n",
      "260/260 [==============================] - 0s 192us/sample - loss: 0.6870 - acc: 0.8012\n",
      "Epoch 6/10\n",
      "260/260 [==============================] - 0s 181us/sample - loss: 0.6861 - acc: 0.8012\n",
      "Epoch 7/10\n",
      "260/260 [==============================] - 0s 181us/sample - loss: 0.6854 - acc: 0.8080\n",
      "Epoch 8/10\n",
      "260/260 [==============================] - 0s 173us/sample - loss: 0.6848 - acc: 0.8012\n",
      "Epoch 9/10\n",
      "260/260 [==============================] - 0s 154us/sample - loss: 0.6841 - acc: 0.8080\n",
      "Epoch 10/10\n",
      "260/260 [==============================] - 0s 165us/sample - loss: 0.6836 - acc: 0.8012\n"
     ]
    },
    {
     "data": {
      "text/plain": [
       "<tensorflow.python.keras.callbacks.History at 0x143b832d940>"
      ]
     },
     "execution_count": 130,
     "metadata": {},
     "output_type": "execute_result"
    }
   ],
   "source": [
    "model = keras.Sequential([\n",
    "    keras.layers.GRU(12,return_sequences=True,input_shape=(1,7)),\n",
    "    keras.layers.Dense(8,activation=\"relu\"),\n",
    "    keras.layers.Dense(4,activation=\"tanh\"),\n",
    "    keras.layers.Dense(2),\n",
    "    keras.layers.Softmax()\n",
    "])\n",
    "\n",
    "# keras.losses.c\n",
    "\n",
    "model.compile(optimizer=\"ftrl\",loss=\"sparse_categorical_crossentropy\",metrics=[\"accuracy\"])\n",
    "model.fit(x_train,y_train,epochs=10)"
   ]
  },
  {
   "cell_type": "code",
   "execution_count": 131,
   "metadata": {},
   "outputs": [
    {
     "name": "stdout",
     "output_type": "stream",
     "text": [
      "65/65 [==============================] - 1s 23ms/sample - loss: 0.6849 - acc: 0.7653\n"
     ]
    },
    {
     "data": {
      "text/plain": [
       "[0.684859459216778, 0.76525134]"
      ]
     },
     "execution_count": 131,
     "metadata": {},
     "output_type": "execute_result"
    }
   ],
   "source": [
    "model.evaluate(x_test,y_test)"
   ]
  },
  {
   "cell_type": "code",
   "execution_count": 138,
   "metadata": {},
   "outputs": [],
   "source": [
    "tmp = x_train[3]\n",
    "tmp_r = y_train[3]\n",
    "tmp = np.reshape(tmp,(1,1,7))"
   ]
  },
  {
   "cell_type": "code",
   "execution_count": 139,
   "metadata": {},
   "outputs": [
    {
     "data": {
      "text/plain": [
       "array([[[0.50829697, 0.491703  ]]], dtype=float32)"
      ]
     },
     "execution_count": 139,
     "metadata": {},
     "output_type": "execute_result"
    }
   ],
   "source": [
    "model.predict(tmp)"
   ]
  },
  {
   "cell_type": "code",
   "execution_count": null,
   "metadata": {},
   "outputs": [],
   "source": []
  },
  {
   "cell_type": "code",
   "execution_count": null,
   "metadata": {},
   "outputs": [],
   "source": []
  },
  {
   "cell_type": "code",
   "execution_count": null,
   "metadata": {},
   "outputs": [],
   "source": []
  }
 ],
 "metadata": {
  "kernelspec": {
   "display_name": "Python 3",
   "language": "python",
   "name": "python3"
  },
  "language_info": {
   "codemirror_mode": {
    "name": "ipython",
    "version": 3
   },
   "file_extension": ".py",
   "mimetype": "text/x-python",
   "name": "python",
   "nbconvert_exporter": "python",
   "pygments_lexer": "ipython3",
   "version": "3.7.0"
  },
  "orig_nbformat": 4,
  "vscode": {
   "interpreter": {
    "hash": "47b6649d89d45d82a2a83f82e518c08ecd52f301339961f4416eb8c43aea9152"
   }
  }
 },
 "nbformat": 4,
 "nbformat_minor": 2
}
